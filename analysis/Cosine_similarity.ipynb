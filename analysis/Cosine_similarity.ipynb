{
 "cells": [
  {
   "cell_type": "markdown",
   "metadata": {},
   "source": [
    "#### Visualization example: cosine similarity between ANN-generated exoplanet title and actual exoplanet titles"
   ]
  },
  {
   "cell_type": "code",
   "execution_count": 26,
   "metadata": {
    "collapsed": true
   },
   "outputs": [],
   "source": [
    "import pandas as pd\n",
    "import numpy as np\n",
    "import math\n",
    "from sklearn.feature_extraction.text import TfidfVectorizer\n",
    "from sklearn.metrics.pairwise import cosine_similarity\n",
    "import matplotlib.pyplot as plt\n",
    "import seaborn as sns"
   ]
  },
  {
   "cell_type": "code",
   "execution_count": 2,
   "metadata": {
    "collapsed": true
   },
   "outputs": [],
   "source": [
    "tfidf_vectorizer = TfidfVectorizer() #term frequency inverse document frequency"
   ]
  },
  {
   "cell_type": "code",
   "execution_count": 9,
   "metadata": {
    "collapsed": false
   },
   "outputs": [],
   "source": [
    "# import test file - the first line of the file is a random ANN-generated text trained on 1000 exoplanet titles\n",
    "exoplanet_test1K = [line.rstrip('\\n') for line in open('exoplanet_1000_with_test.txt')]\n",
    "df_exoplanet_test1K = pd.DataFrame(exoplanet_test)\n",
    "df_exoplanet_test1K.columns = ['Title']"
   ]
  },
  {
   "cell_type": "code",
   "execution_count": 10,
   "metadata": {
    "collapsed": true
   },
   "outputs": [],
   "source": [
    "# convert title column to tuple\n",
    "title_tuple = tuple(list(df_exoplanet_test1K['Title']))"
   ]
  },
  {
   "cell_type": "code",
   "execution_count": 11,
   "metadata": {
    "collapsed": false
   },
   "outputs": [
    {
     "data": {
      "text/plain": [
       "(1001, 2839)"
      ]
     },
     "execution_count": 11,
     "metadata": {},
     "output_type": "execute_result"
    }
   ],
   "source": [
    "# create TFIDF matrix\n",
    "tfidf_matrix = tfidf_vectorizer.fit_transform(title_tuple)\n",
    "tfidf_matrix.shape # check the number of tfidf terms (the number of columns from the matrix)"
   ]
  },
  {
   "cell_type": "code",
   "execution_count": 12,
   "metadata": {
    "collapsed": true
   },
   "outputs": [],
   "source": [
    "# calculate the cosine similarity of sample title compared to the whole training set\n",
    "# Compare the first title (the test title) to all other titles\n",
    "cosine_sim_array = cosine_similarity(tfidf_matrix[0:1], tfidf_matrix)"
   ]
  },
  {
   "cell_type": "code",
   "execution_count": 27,
   "metadata": {
    "collapsed": false
   },
   "outputs": [],
   "source": [
    "# Show most similar title in degrees\n",
    "cos_sim = np.partition(cosine_sim_array.flatten(), -2)[-2] # second largest value in array (most similar title)\n",
    "angle_in_degrees = math.acos(cos_sim)\n",
    "most_similar1K = math.degrees(angle_in_degrees)"
   ]
  },
  {
   "cell_type": "code",
   "execution_count": 18,
   "metadata": {
    "collapsed": false
   },
   "outputs": [],
   "source": [
    "# find index of most similar title\n",
    "itemindex = np.where(cosine_sim_array==cos_sim)\n",
    "itemindex = itemindex[1]\n",
    "itemindex = itemindex[0]"
   ]
  },
  {
   "cell_type": "code",
   "execution_count": 15,
   "metadata": {
    "collapsed": true
   },
   "outputs": [],
   "source": [
    "# find most similar title and print it along with first title used for comparison\n",
    "comparison_title = title_tuple[0]\n",
    "most_similar_title = title_tuple[itemindex]"
   ]
  },
  {
   "cell_type": "code",
   "execution_count": 28,
   "metadata": {
    "collapsed": false,
    "scrolled": true
   },
   "outputs": [
    {
     "name": "stdout",
     "output_type": "stream",
     "text": [
      "--------------------------------------------\n",
      "LSTM ANN Generated Title | +pent, spectrling Wepulation and perture of HD 161068n microlensing the to circe S\t\n",
      "Most Similar Real Title  | \"Stellar Companions to the Exoplanet Host Stars HD 2638 and HD 164509\"\n",
      "Cosine Similarity Angle  | 80.5912319964\n",
      "--------------------------------------------\n"
     ]
    }
   ],
   "source": [
    "print \"--------------------------------------------\"\n",
    "print \"LSTM ANN Generated Title |\", comparison_title\n",
    "print \"Most Similar Real Title  |\", most_similar_title\n",
    "print \"Cosine Similarity Angle  |\", most_similar1K\n",
    "print \"--------------------------------------------\""
   ]
  },
  {
   "cell_type": "code",
   "execution_count": null,
   "metadata": {
    "collapsed": true
   },
   "outputs": [],
   "source": []
  }
 ],
 "metadata": {
  "anaconda-cloud": {},
  "kernelspec": {
   "display_name": "Python [Root]",
   "language": "python",
   "name": "Python [Root]"
  },
  "language_info": {
   "codemirror_mode": {
    "name": "ipython",
    "version": 2
   },
   "file_extension": ".py",
   "mimetype": "text/x-python",
   "name": "python",
   "nbconvert_exporter": "python",
   "pygments_lexer": "ipython2",
   "version": "2.7.9"
  }
 },
 "nbformat": 4,
 "nbformat_minor": 0
}
