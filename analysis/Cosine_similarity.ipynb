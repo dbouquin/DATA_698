{
 "cells": [
  {
   "cell_type": "markdown",
   "metadata": {},
   "source": [
    "### Cosine similarity between ANN-generated exoplanet title and actual exoplanet titles\n",
    "   \n",
    "* I will test one randomly generated title from each sample set.    \n",
    "* For a more thorough analysis I will calculate the average similarity for each training size using 100 cooresponding ANN-generated titles."
   ]
  },
  {
   "cell_type": "markdown",
   "metadata": {},
   "source": [
    "<img src=\"cos_sim_calc.png\" style=\"width: 550px;\"/>\n",
    "![title](cosinesimilarity.png)"
   ]
  },
  {
   "cell_type": "code",
   "execution_count": 8,
   "metadata": {
    "collapsed": true
   },
   "outputs": [],
   "source": [
    "import pandas as pd\n",
    "import numpy as np\n",
    "import math\n",
    "from sklearn.feature_extraction.text import TfidfVectorizer\n",
    "from sklearn.metrics.pairwise import cosine_similarity\n",
    "import matplotlib.pyplot as plt\n",
    "import seaborn as sns"
   ]
  },
  {
   "cell_type": "code",
   "execution_count": 9,
   "metadata": {
    "collapsed": true
   },
   "outputs": [],
   "source": [
    "tfidf_vectorizer = TfidfVectorizer() #term frequency inverse document frequency"
   ]
  },
  {
   "cell_type": "markdown",
   "metadata": {},
   "source": [
    "### Exoplanets Titles Trained on 1000 ADS Records"
   ]
  },
  {
   "cell_type": "code",
   "execution_count": 32,
   "metadata": {
    "collapsed": false
   },
   "outputs": [
    {
     "name": "stdout",
     "output_type": "stream",
     "text": [
      "--------------------------------------------\n",
      "LSTM ANN Generated Title | +pent, spectrling Wepulation and perture of HD 161068n microlensing the to circe S\t\n",
      "Most Similar Real Title  | \"Stellar Companions to the Exoplanet Host Stars HD 2638 and HD 164509\"\n",
      "Cosine Similarity Angle  | 80.5912319964\n",
      "--------------------------------------------\n"
     ]
    }
   ],
   "source": [
    "# import test file - the first line of the file is a random ANN-generated text trained on 1000 exoplanet titles\n",
    "exoplanet_test1K = [line.rstrip('\\n') for line in open('exoplanet_1000_test.txt')]\n",
    "df_exoplanet_test1K = pd.DataFrame(exoplanet_test1K)\n",
    "df_exoplanet_test1K.columns = ['Title']\n",
    "\n",
    "# convert title column to tuple\n",
    "title_tuple = tuple(list(df_exoplanet_test1K['Title']))\n",
    "\n",
    "# create TFIDF matrix\n",
    "tfidf_matrix = tfidf_vectorizer.fit_transform(title_tuple)\n",
    "\n",
    "# calculate the cosine similarity of sample title compared to the whole training set\n",
    "# Compare the first title (the test title) to all other titles\n",
    "cosine_sim_array = cosine_similarity(tfidf_matrix[0:1], tfidf_matrix)\n",
    "\n",
    "# Show most similar title in degrees\n",
    "cos_sim = np.partition(cosine_sim_array.flatten(), -2)[-2] # second largest value in array (most similar title)\n",
    "angle_in_degrees = math.acos(cos_sim)\n",
    "most_similar1K = math.degrees(angle_in_degrees)\n",
    "\n",
    "# find index of most similar title\n",
    "itemindex = np.where(cosine_sim_array==cos_sim)\n",
    "itemindex = itemindex[1]\n",
    "itemindex = itemindex[0]\n",
    "\n",
    "# find most similar title and print it along with first title used for comparison\n",
    "comparison_title = title_tuple[0]\n",
    "most_similar_title = title_tuple[itemindex]\n",
    "\n",
    "print \"--------------------------------------------\"\n",
    "print \"LSTM ANN Generated Title |\", comparison_title\n",
    "print \"Most Similar Real Title  |\", most_similar_title\n",
    "print \"Cosine Similarity Angle  |\", most_similar1K\n",
    "print \"--------------------------------------------\""
   ]
  },
  {
   "cell_type": "markdown",
   "metadata": {},
   "source": [
    "### Exoplanets Titles Trained on 5000 ADS Records"
   ]
  },
  {
   "cell_type": "code",
   "execution_count": 31,
   "metadata": {
    "collapsed": false
   },
   "outputs": [
    {
     "name": "stdout",
     "output_type": "stream",
     "text": [
      "--------------------------------------------\n",
      "LSTM ANN Generated Title | v Polaries and its and XXV2 during Dwarf Close, The stability ring binaries\"\"Spin states of asteroids in the Eos collisional family\"\n",
      "Most Similar Real Title  | \"Using Close White Dwarf + M Dwarf Stellar Pairs to Constrain the Flare Rates in Close Stellar Binaries\"\n",
      "Cosine Similarity Angle  | 77.6820507623\n",
      "--------------------------------------------\n"
     ]
    }
   ],
   "source": [
    "# import test file - the first line of the file is a random ANN-generated text trained on 1000 exoplanet titles\n",
    "exoplanet_test5K = [line.rstrip('\\n') for line in open('exoplanet_5000_test.txt')]\n",
    "df_exoplanet_test5K = pd.DataFrame(exoplanet_test5K)\n",
    "df_exoplanet_test5K.columns = ['Title']\n",
    "\n",
    "# convert title column to tuple\n",
    "title_tuple = tuple(list(df_exoplanet_test5K['Title']))\n",
    "\n",
    "# create TFIDF matrix\n",
    "tfidf_matrix = tfidf_vectorizer.fit_transform(title_tuple)\n",
    "\n",
    "# calculate the cosine similarity of sample title compared to the whole training set\n",
    "# Compare the first title (the test title) to all other titles\n",
    "cosine_sim_array = cosine_similarity(tfidf_matrix[0:1], tfidf_matrix)\n",
    "\n",
    "# Show most similar title in degrees\n",
    "cos_sim = np.partition(cosine_sim_array.flatten(), -2)[-2] # second largest value in array (most similar title)\n",
    "angle_in_degrees = math.acos(cos_sim)\n",
    "most_similar5K = math.degrees(angle_in_degrees)\n",
    "\n",
    "# find index of most similar title\n",
    "itemindex = np.where(cosine_sim_array==cos_sim)\n",
    "itemindex = itemindex[1]\n",
    "itemindex = itemindex[0]\n",
    "\n",
    "# find most similar title and print it along with first title used for comparison\n",
    "comparison_title = title_tuple[0]\n",
    "most_similar_title = title_tuple[itemindex]\n",
    "\n",
    "print \"--------------------------------------------\"\n",
    "print \"LSTM ANN Generated Title |\", comparison_title\n",
    "print \"Most Similar Real Title  |\", most_similar_title\n",
    "print \"Cosine Similarity Angle  |\", most_similar5K\n",
    "print \"--------------------------------------------\""
   ]
  },
  {
   "cell_type": "markdown",
   "metadata": {},
   "source": [
    "### Exoplanets Titles Trained on 10000 ADS Records"
   ]
  },
  {
   "cell_type": "code",
   "execution_count": 30,
   "metadata": {
    "collapsed": false
   },
   "outputs": [
    {
     "name": "stdout",
     "output_type": "stream",
     "text": [
      "--------------------------------------------\n",
      "LSTM ANN Generated Title | \"The disc and interferometry. III. Completed Transiting Planet Atmospher\t\n",
      "Most Similar Real Title  | \"Asteroseismology and interferometry\"\n",
      "Cosine Similarity Angle  | 76.5158509638\n",
      "--------------------------------------------\n"
     ]
    }
   ],
   "source": [
    "# import test file - the first line of the file is a random ANN-generated text trained on 1000 exoplanet titles\n",
    "exoplanet_test10K = [line.rstrip('\\n') for line in open('exoplanet_10000_test.txt')]\n",
    "df_exoplanet_test10K = pd.DataFrame(exoplanet_test10K)\n",
    "df_exoplanet_test10K.columns = ['Title']\n",
    "\n",
    "# convert title column to tuple\n",
    "title_tuple = tuple(list(df_exoplanet_test10K['Title']))\n",
    "\n",
    "# create TFIDF matrix\n",
    "tfidf_matrix = tfidf_vectorizer.fit_transform(title_tuple)\n",
    "\n",
    "# calculate the cosine similarity of sample title compared to the whole training set\n",
    "# Compare the first title (the test title) to all other titles\n",
    "cosine_sim_array = cosine_similarity(tfidf_matrix[0:1], tfidf_matrix)\n",
    "\n",
    "# Show most similar title in degrees\n",
    "cos_sim = np.partition(cosine_sim_array.flatten(), -2)[-2] # second largest value in array (most similar title)\n",
    "angle_in_degrees = math.acos(cos_sim)\n",
    "most_similar10K = math.degrees(angle_in_degrees)\n",
    "\n",
    "# find index of most similar title\n",
    "itemindex = np.where(cosine_sim_array==cos_sim)\n",
    "itemindex = itemindex[1]\n",
    "itemindex = itemindex[0]\n",
    "\n",
    "# find most similar title and print it along with first title used for comparison\n",
    "comparison_title = title_tuple[0]\n",
    "most_similar_title = title_tuple[itemindex]\n",
    "\n",
    "print \"--------------------------------------------\"\n",
    "print \"LSTM ANN Generated Title |\", comparison_title\n",
    "print \"Most Similar Real Title  |\", most_similar_title\n",
    "print \"Cosine Similarity Angle  |\", most_similar10K\n",
    "print \"--------------------------------------------\""
   ]
  },
  {
   "cell_type": "markdown",
   "metadata": {},
   "source": [
    "### Exoplanets Titles Trained on 20000 ADS Records"
   ]
  },
  {
   "cell_type": "code",
   "execution_count": 37,
   "metadata": {
    "collapsed": false
   },
   "outputs": [
    {
     "name": "stdout",
     "output_type": "stream",
     "text": [
      "--------------------------------------------\n",
      "LSTM ANN Generated Title | \"The Stellar Low-mass Ho<AOSUOT and binary with Distriups of Their HD 377\t\n",
      "Most Similar Real Title  | \"Detection of Low-Mass-ratio Stellar Binary Systems\"\n",
      "Cosine Similarity Angle  | 73.9288842158\n",
      "--------------------------------------------\n"
     ]
    }
   ],
   "source": [
    "# import test file - the first line of the file is a random ANN-generated text trained on 1000 exoplanet titles\n",
    "exoplanet_test20K = [line.rstrip('\\n') for line in open('exoplanet_20000_test.txt')]\n",
    "df_exoplanet_test20K = pd.DataFrame(exoplanet_test20K)\n",
    "df_exoplanet_test20K.columns = ['Title']\n",
    "\n",
    "# convert title column to tuple\n",
    "title_tuple = tuple(list(df_exoplanet_test20K['Title']))\n",
    "\n",
    "# create TFIDF matrix\n",
    "tfidf_matrix = tfidf_vectorizer.fit_transform(title_tuple)\n",
    "\n",
    "# calculate the cosine similarity of sample title compared to the whole training set\n",
    "# Compare the first title (the test title) to all other titles\n",
    "cosine_sim_array = cosine_similarity(tfidf_matrix[0:1], tfidf_matrix)\n",
    "\n",
    "# Show most similar title in degrees\n",
    "cos_sim = np.partition(cosine_sim_array.flatten(), -2)[-2] # second largest value in array (most similar title)\n",
    "angle_in_degrees = math.acos(cos_sim)\n",
    "most_similar20K = math.degrees(angle_in_degrees)\n",
    "\n",
    "# find index of most similar title\n",
    "itemindex = np.where(cosine_sim_array==cos_sim)\n",
    "itemindex = itemindex[1]\n",
    "itemindex = itemindex[0]\n",
    "\n",
    "# find most similar title and print it along with first title used for comparison\n",
    "comparison_title = title_tuple[0]\n",
    "most_similar_title = title_tuple[itemindex]\n",
    "\n",
    "print \"--------------------------------------------\"\n",
    "print \"LSTM ANN Generated Title |\", comparison_title\n",
    "print \"Most Similar Real Title  |\", most_similar_title\n",
    "print \"Cosine Similarity Angle  |\", most_similar20K\n",
    "print \"--------------------------------------------\""
   ]
  },
  {
   "cell_type": "code",
   "execution_count": null,
   "metadata": {
    "collapsed": true
   },
   "outputs": [],
   "source": []
  }
 ],
 "metadata": {
  "anaconda-cloud": {},
  "kernelspec": {
   "display_name": "Python [Root]",
   "language": "python",
   "name": "Python [Root]"
  },
  "language_info": {
   "codemirror_mode": {
    "name": "ipython",
    "version": 2
   },
   "file_extension": ".py",
   "mimetype": "text/x-python",
   "name": "python",
   "nbconvert_exporter": "python",
   "pygments_lexer": "ipython2",
   "version": "2.7.9"
  }
 },
 "nbformat": 4,
 "nbformat_minor": 0
}
