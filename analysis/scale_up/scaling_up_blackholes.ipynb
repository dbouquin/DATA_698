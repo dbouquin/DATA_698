{
 "cells": [
  {
   "cell_type": "markdown",
   "metadata": {},
   "source": [
    "## Scaling up the analysis - Black Holes\n",
    "\n",
    "Looping through all sampled \"fake titles\" and doing cosine analysis"
   ]
  },
  {
   "cell_type": "code",
   "execution_count": 1,
   "metadata": {
    "collapsed": true
   },
   "outputs": [],
   "source": [
    "import math\n",
    "from sklearn.feature_extraction.text import TfidfVectorizer\n",
    "from sklearn.metrics.pairwise import cosine_similarity\n",
    "import re\n",
    "import pandas as pd\n",
    "import csv\n",
    "import os\n",
    "import random\n",
    "import numpy as np\n",
    "import seaborn as sns\n",
    "tfidf_vectorizer = TfidfVectorizer()"
   ]
  },
  {
   "cell_type": "markdown",
   "metadata": {},
   "source": [
    "### Cosine analysis: Black Holes\n",
    "#### black hole titles generated after training on 1,000 real black hole titles"
   ]
  },
  {
   "cell_type": "code",
   "execution_count": 2,
   "metadata": {
    "collapsed": false
   },
   "outputs": [],
   "source": [
    "blackhole_1K = [line.rstrip('\\n') for line in open('blackhole_1000_clean.txt')]\n",
    "df_blackhole_1K = pd.DataFrame(blackhole_1K)\n",
    "df_blackhole_1K.columns = ['Title']"
   ]
  },
  {
   "cell_type": "code",
   "execution_count": 3,
   "metadata": {
    "collapsed": false
   },
   "outputs": [],
   "source": [
    "test_results = []\n",
    "\n",
    "with open(\"blackhole_1000_sample_nl.txt\", \"r\") as ins:\n",
    "    for line in ins:\n",
    "        df_blackhole_1K_test = df_blackhole_1K \n",
    "        df_blackhole_1K_test.loc[-1] = [line]\n",
    "        df_blackhole_1K_test.index = df_blackhole_1K_test.index + 1\n",
    "        df_blackhole_1K_test = df_blackhole_1K_test.sort_index()\n",
    "        title_tuple = tuple(list(df_blackhole_1K_test['Title']))\n",
    "        tfidf_matrix = tfidf_vectorizer.fit_transform(title_tuple)\n",
    "        cosine_sim_array = cosine_similarity(tfidf_matrix[0:1], tfidf_matrix)\n",
    "        cos_sim = np.partition(cosine_sim_array.flatten(), -2)[-2] \n",
    "        angle_in_degrees = math.acos(cos_sim)\n",
    "        most_similar1K = math.degrees(angle_in_degrees)\n",
    "        test_results.append(most_similar1K)"
   ]
  },
  {
   "cell_type": "code",
   "execution_count": 4,
   "metadata": {
    "collapsed": false
   },
   "outputs": [
    {
     "name": "stdout",
     "output_type": "stream",
     "text": [
      "82.0853595685\n"
     ]
    }
   ],
   "source": [
    "print reduce(lambda x, y: x + y, test_results) / len(test_results)"
   ]
  },
  {
   "cell_type": "code",
   "execution_count": 5,
   "metadata": {
    "collapsed": false
   },
   "outputs": [],
   "source": [
    "blackhole_1K_results = pd.DataFrame(np.array(test_results), columns = ['CosineSim1K'])"
   ]
  },
  {
   "cell_type": "markdown",
   "metadata": {},
   "source": [
    "#### Black hole titles generated after training on 5,000 real black hole titles"
   ]
  },
  {
   "cell_type": "code",
   "execution_count": 9,
   "metadata": {
    "collapsed": true
   },
   "outputs": [],
   "source": [
    "blackhole_5K = [line.rstrip('\\n') for line in open('blackhole_5000_clean.txt')]\n",
    "df_blackhole_5K = pd.DataFrame(blackhole_5K)\n",
    "df_blackhole_5K.columns = ['Title']"
   ]
  },
  {
   "cell_type": "code",
   "execution_count": 10,
   "metadata": {
    "collapsed": false
   },
   "outputs": [],
   "source": [
    "test_results = []\n",
    "\n",
    "with open(\"blackhole_5000_sample_nl.txt\", \"r\") as ins:\n",
    "    for line in ins:\n",
    "        df_blackhole_5K_test = df_blackhole_5K \n",
    "        df_blackhole_5K_test.loc[-1] = [line]\n",
    "        df_blackhole_5K_test.index = df_blackhole_5K_test.index + 1\n",
    "        df_blackhole_5K_test = df_blackhole_5K_test.sort_index()\n",
    "        title_tuple = tuple(list(df_blackhole_5K_test['Title']))\n",
    "        tfidf_matrix = tfidf_vectorizer.fit_transform(title_tuple)\n",
    "        cosine_sim_array = cosine_similarity(tfidf_matrix[0:1], tfidf_matrix)\n",
    "        cos_sim = np.partition(cosine_sim_array.flatten(), -2)[-2] \n",
    "        angle_in_degrees = math.acos(cos_sim)\n",
    "        most_similar5K = math.degrees(angle_in_degrees)\n",
    "        test_results.append(most_similar5K)"
   ]
  },
  {
   "cell_type": "code",
   "execution_count": 11,
   "metadata": {
    "collapsed": false
   },
   "outputs": [
    {
     "name": "stdout",
     "output_type": "stream",
     "text": [
      "81.5151403561\n"
     ]
    }
   ],
   "source": [
    "print reduce(lambda x, y: x + y, test_results) / len(test_results)"
   ]
  },
  {
   "cell_type": "code",
   "execution_count": 12,
   "metadata": {
    "collapsed": false
   },
   "outputs": [],
   "source": [
    "blackhole_5K_results = pd.DataFrame(np.array(test_results), columns = ['CosineSim5K'])"
   ]
  },
  {
   "cell_type": "markdown",
   "metadata": {},
   "source": [
    "#### Black hole titles generated after training on 10,000 real black hole titles"
   ]
  },
  {
   "cell_type": "code",
   "execution_count": 13,
   "metadata": {
    "collapsed": true
   },
   "outputs": [],
   "source": [
    "blackhole_10K = [line.rstrip('\\n') for line in open('blackhole_10000_clean.txt')]\n",
    "df_blackhole_10K = pd.DataFrame(blackhole_10K)\n",
    "df_blackhole_10K.columns = ['Title']"
   ]
  },
  {
   "cell_type": "code",
   "execution_count": 14,
   "metadata": {
    "collapsed": true
   },
   "outputs": [],
   "source": [
    "test_results = []\n",
    "\n",
    "with open(\"blackhole_10000_sample_nl.txt\", \"r\") as ins:\n",
    "    for line in ins:\n",
    "        df_blackhole_10K_test = df_blackhole_10K \n",
    "        df_blackhole_10K_test.loc[-1] = [line]\n",
    "        df_blackhole_10K_test.index = df_blackhole_10K_test.index + 1\n",
    "        df_blackhole_10K_test = df_blackhole_10K_test.sort_index()\n",
    "        title_tuple = tuple(list(df_blackhole_10K_test['Title']))\n",
    "        tfidf_matrix = tfidf_vectorizer.fit_transform(title_tuple)\n",
    "        cosine_sim_array = cosine_similarity(tfidf_matrix[0:1], tfidf_matrix)\n",
    "        cos_sim = np.partition(cosine_sim_array.flatten(), -2)[-2] \n",
    "        angle_in_degrees = math.acos(cos_sim)\n",
    "        most_similar10K = math.degrees(angle_in_degrees)\n",
    "        test_results.append(most_similar10K)"
   ]
  },
  {
   "cell_type": "code",
   "execution_count": 15,
   "metadata": {
    "collapsed": false
   },
   "outputs": [
    {
     "name": "stdout",
     "output_type": "stream",
     "text": [
      "78.2307682583\n"
     ]
    }
   ],
   "source": [
    "print reduce(lambda x, y: x + y, test_results) / len(test_results)"
   ]
  },
  {
   "cell_type": "code",
   "execution_count": 16,
   "metadata": {
    "collapsed": true
   },
   "outputs": [],
   "source": [
    "blackhole_10K_results = pd.DataFrame(np.array(test_results), columns = ['CosineSim10K'])"
   ]
  },
  {
   "cell_type": "markdown",
   "metadata": {},
   "source": [
    "#### Black hole titles generated after training on 20,000 real black hole titles"
   ]
  },
  {
   "cell_type": "code",
   "execution_count": 22,
   "metadata": {
    "collapsed": true
   },
   "outputs": [],
   "source": [
    "blackhole_20K = [line.rstrip('\\n') for line in open('blackhole_20000_clean.txt')]\n",
    "df_blackhole_20K = pd.DataFrame(blackhole_20K)\n",
    "df_blackhole_20K.columns = ['Title']"
   ]
  },
  {
   "cell_type": "code",
   "execution_count": 23,
   "metadata": {
    "collapsed": false
   },
   "outputs": [],
   "source": [
    "test_results = []\n",
    "\n",
    "with open(\"blackhole_20000_sample_nl.txt\", \"r\") as ins:\n",
    "    for line in ins:\n",
    "        df_blackhole_20K_test = df_blackhole_20K \n",
    "        df_blackhole_20K_test.loc[-1] = [line]\n",
    "        df_blackhole_20K_test.index = df_blackhole_20K_test.index + 1\n",
    "        df_blackhole_20K_test = df_blackhole_20K_test.sort_index()\n",
    "        title_tuple = tuple(list(df_blackhole_20K_test['Title']))\n",
    "        tfidf_matrix = tfidf_vectorizer.fit_transform(title_tuple)\n",
    "        cosine_sim_array = cosine_similarity(tfidf_matrix[0:1], tfidf_matrix)\n",
    "        cos_sim = np.partition(cosine_sim_array.flatten(), -2)[-2] \n",
    "        angle_in_degrees = math.acos(cos_sim)\n",
    "        most_similar20K = math.degrees(angle_in_degrees)\n",
    "        test_results.append(most_similar20K)"
   ]
  },
  {
   "cell_type": "code",
   "execution_count": 24,
   "metadata": {
    "collapsed": false
   },
   "outputs": [
    {
     "name": "stdout",
     "output_type": "stream",
     "text": [
      "77.0678009487\n"
     ]
    }
   ],
   "source": [
    "print reduce(lambda x, y: x + y, test_results) / len(test_results)"
   ]
  },
  {
   "cell_type": "code",
   "execution_count": 25,
   "metadata": {
    "collapsed": true
   },
   "outputs": [],
   "source": [
    "blackhole_20K_results = pd.DataFrame(np.array(test_results), columns = ['CosineSim20K'])"
   ]
  },
  {
   "cell_type": "markdown",
   "metadata": {},
   "source": [
    "### Combine and reshape all black hole results"
   ]
  },
  {
   "cell_type": "code",
   "execution_count": 26,
   "metadata": {
    "collapsed": true
   },
   "outputs": [],
   "source": [
    "blackhole_allresults = pd.concat([blackhole_1K_results, blackhole_5K_results, blackhole_10K_results, blackhole_20K_results], axis=1)"
   ]
  },
  {
   "cell_type": "code",
   "execution_count": 27,
   "metadata": {
    "collapsed": false
   },
   "outputs": [
    {
     "data": {
      "text/html": [
       "<div>\n",
       "<table border=\"1\" class=\"dataframe\">\n",
       "  <thead>\n",
       "    <tr style=\"text-align: right;\">\n",
       "      <th></th>\n",
       "      <th>CosineSim1K</th>\n",
       "      <th>CosineSim5K</th>\n",
       "      <th>CosineSim10K</th>\n",
       "      <th>CosineSim20K</th>\n",
       "    </tr>\n",
       "  </thead>\n",
       "  <tbody>\n",
       "    <tr>\n",
       "      <th>0</th>\n",
       "      <td>83.379437</td>\n",
       "      <td>80.988346</td>\n",
       "      <td>81.341854</td>\n",
       "      <td>80.916998</td>\n",
       "    </tr>\n",
       "    <tr>\n",
       "      <th>1</th>\n",
       "      <td>80.112625</td>\n",
       "      <td>79.940088</td>\n",
       "      <td>79.202072</td>\n",
       "      <td>80.241259</td>\n",
       "    </tr>\n",
       "    <tr>\n",
       "      <th>2</th>\n",
       "      <td>83.557122</td>\n",
       "      <td>80.874947</td>\n",
       "      <td>78.306722</td>\n",
       "      <td>40.039122</td>\n",
       "    </tr>\n",
       "    <tr>\n",
       "      <th>3</th>\n",
       "      <td>81.901079</td>\n",
       "      <td>83.587092</td>\n",
       "      <td>82.274476</td>\n",
       "      <td>66.288257</td>\n",
       "    </tr>\n",
       "    <tr>\n",
       "      <th>4</th>\n",
       "      <td>90.000000</td>\n",
       "      <td>79.252060</td>\n",
       "      <td>73.501383</td>\n",
       "      <td>60.427735</td>\n",
       "    </tr>\n",
       "  </tbody>\n",
       "</table>\n",
       "</div>"
      ],
      "text/plain": [
       "   CosineSim1K  CosineSim5K  CosineSim10K  CosineSim20K\n",
       "0    83.379437    80.988346     81.341854     80.916998\n",
       "1    80.112625    79.940088     79.202072     80.241259\n",
       "2    83.557122    80.874947     78.306722     40.039122\n",
       "3    81.901079    83.587092     82.274476     66.288257\n",
       "4    90.000000    79.252060     73.501383     60.427735"
      ]
     },
     "execution_count": 27,
     "metadata": {},
     "output_type": "execute_result"
    }
   ],
   "source": [
    "blackhole_allresults.head()"
   ]
  },
  {
   "cell_type": "code",
   "execution_count": 28,
   "metadata": {
    "collapsed": false
   },
   "outputs": [
    {
     "data": {
      "text/html": [
       "<div>\n",
       "<table border=\"1\" class=\"dataframe\">\n",
       "  <thead>\n",
       "    <tr style=\"text-align: right;\">\n",
       "      <th></th>\n",
       "      <th>TrainingDataSize</th>\n",
       "      <th>CosineSim</th>\n",
       "    </tr>\n",
       "  </thead>\n",
       "  <tbody>\n",
       "    <tr>\n",
       "      <th>0</th>\n",
       "      <td>CosineSim1K</td>\n",
       "      <td>83.379437</td>\n",
       "    </tr>\n",
       "    <tr>\n",
       "      <th>1</th>\n",
       "      <td>CosineSim1K</td>\n",
       "      <td>80.112625</td>\n",
       "    </tr>\n",
       "    <tr>\n",
       "      <th>2</th>\n",
       "      <td>CosineSim1K</td>\n",
       "      <td>83.557122</td>\n",
       "    </tr>\n",
       "    <tr>\n",
       "      <th>3</th>\n",
       "      <td>CosineSim1K</td>\n",
       "      <td>81.901079</td>\n",
       "    </tr>\n",
       "    <tr>\n",
       "      <th>4</th>\n",
       "      <td>CosineSim1K</td>\n",
       "      <td>90.000000</td>\n",
       "    </tr>\n",
       "  </tbody>\n",
       "</table>\n",
       "</div>"
      ],
      "text/plain": [
       "  TrainingDataSize  CosineSim\n",
       "0      CosineSim1K  83.379437\n",
       "1      CosineSim1K  80.112625\n",
       "2      CosineSim1K  83.557122\n",
       "3      CosineSim1K  81.901079\n",
       "4      CosineSim1K  90.000000"
      ]
     },
     "execution_count": 28,
     "metadata": {},
     "output_type": "execute_result"
    }
   ],
   "source": [
    "blackhole_allresults = pd.melt(blackhole_allresults)\n",
    "blackhole_allresults.columns = ['TrainingDataSize', 'CosineSim']\n",
    "blackhole_allresults.head()"
   ]
  },
  {
   "cell_type": "markdown",
   "metadata": {},
   "source": [
    "### Plot the results"
   ]
  },
  {
   "cell_type": "code",
   "execution_count": 29,
   "metadata": {
    "collapsed": false
   },
   "outputs": [
    {
     "data": {
      "image/png": "[encoded data removed]",
      "text/plain": [
       "<matplotlib.figure.Figure at 0x1361db290>"
      ]
     },
     "metadata": {},
     "output_type": "display_data"
    }
   ],
   "source": [
    "%matplotlib inline\n",
    "sns.set_style(\"whitegrid\")\n",
    "ax = sns.violinplot(x=\"TrainingDataSize\", y=\"CosineSim\", data=blackhole_allresults)"
   ]
  },
  {
   "cell_type": "markdown",
   "metadata": {},
   "source": [
    "### Calculate Average Number of Unique Words in Each Training Set\n",
    "#### Average Unique Words in black hole 1,000 title sample"
   ]
  },
  {
   "cell_type": "code",
   "execution_count": 30,
   "metadata": {
    "collapsed": false
   },
   "outputs": [
    {
     "data": {
      "text/plain": [
       "11"
      ]
     },
     "execution_count": 30,
     "metadata": {},
     "output_type": "execute_result"
    }
   ],
   "source": [
    "unique1K = [len(line.split()) for line in blackhole_1K]\n",
    "avg_unique1K = (sum(unique1K) / len(unique1K))\n",
    "avg_unique1K"
   ]
  },
  {
   "cell_type": "code",
   "execution_count": 31,
   "metadata": {
    "collapsed": false
   },
   "outputs": [
    {
     "data": {
      "text/plain": [
       "11"
      ]
     },
     "execution_count": 31,
     "metadata": {},
     "output_type": "execute_result"
    }
   ],
   "source": [
    "unique5K = [len(line.split()) for line in blackhole_5K]\n",
    "avg_unique5K = (sum(unique5K) / len(unique5K))\n",
    "avg_unique5K"
   ]
  },
  {
   "cell_type": "code",
   "execution_count": 32,
   "metadata": {
    "collapsed": false
   },
   "outputs": [
    {
     "data": {
      "text/plain": [
       "10"
      ]
     },
     "execution_count": 32,
     "metadata": {},
     "output_type": "execute_result"
    }
   ],
   "source": [
    "unique10K = [len(line.split()) for line in blackhole_10K]\n",
    "avg_unique10K = (sum(unique10K) / len(unique10K))\n",
    "avg_unique10K"
   ]
  },
  {
   "cell_type": "code",
   "execution_count": 33,
   "metadata": {
    "collapsed": false
   },
   "outputs": [
    {
     "data": {
      "text/plain": [
       "10"
      ]
     },
     "execution_count": 33,
     "metadata": {},
     "output_type": "execute_result"
    }
   ],
   "source": [
    "unique20K = [len(line.split()) for line in blackhole_20K]\n",
    "avg_unique20K = (sum(unique20K) / len(unique20K))\n",
    "avg_unique20K"
   ]
  },
  {
   "cell_type": "markdown",
   "metadata": {},
   "source": [
    "### ASCII Analysis\n",
    "#### Presence of non-ASCII characters in 1,000 real training titles: "
   ]
  },
  {
   "cell_type": "code",
   "execution_count": 34,
   "metadata": {
    "collapsed": false
   },
   "outputs": [
    {
     "name": "stdout",
     "output_type": "stream",
     "text": [
      "Average count of non-ASCII characters per training title with non-ASCIIs: 3\n"
     ]
    }
   ],
   "source": [
    "# Find titles with non-ascii characters\n",
    "nonascii_lines1K = []\n",
    "\n",
    "for line in blackhole_1K:\n",
    "  a = re.sub('[\\x00-\\x7f]', '', line)\n",
    "  nonascii_lines1K.append(a)\n",
    "\n",
    "# Drop empty elements in the list (titles with no ascii characters)\n",
    "nonascii_notempty_1K = filter(None, nonascii_lines1K)\n",
    "count_nonascii_notempty_1K = len(nonascii_notempty_1K)\n",
    "\n",
    "# Calculate average number of non-ascii characters in a title when the title contains non-ascii characters\n",
    "actual_nonascii_1K = sum([len(i) for i in nonascii_notempty_1K])/count_nonascii_notempty_1K\n",
    "\n",
    "print \"Average count of non-ASCII characters per training title with non-ASCIIs:\", actual_nonascii_1K "
   ]
  },
  {
   "cell_type": "markdown",
   "metadata": {},
   "source": [
    "#### Presence of non-ASCII characters in sampled titles trained on 1,000 real titles:"
   ]
  },
  {
   "cell_type": "code",
   "execution_count": 35,
   "metadata": {
    "collapsed": false
   },
   "outputs": [
    {
     "name": "stdout",
     "output_type": "stream",
     "text": [
      "Average count of non-ASCII characters per training title with non-ASCIIs: 25\n"
     ]
    }
   ],
   "source": [
    "blackhole_1K_test = [line.rstrip('\\n') for line in open('blackhole_1000_sample_nl.txt')]\n",
    "\n",
    "# Find titles with non-ascii characters\n",
    "nonascii_lines1K_test = []\n",
    "\n",
    "for line in blackhole_1K_test:\n",
    "  a = re.sub('[\\x00-\\x7f]', '', line)\n",
    "  nonascii_lines1K_test.append(a)\n",
    "\n",
    "# Drop empty elements in the list (titles with no ascii characters)\n",
    "nonascii_notempty_1K_test = filter(None, nonascii_lines1K_test)\n",
    "count_nonascii_notempty_1K_test = len(nonascii_notempty_1K_test)\n",
    "\n",
    "# Calculate average number of non-ascii characters in a title when the title contains non-ascii characters\n",
    "actual_nonascii_1K_test = sum([len(i) for i in nonascii_notempty_1K_test])/count_nonascii_notempty_1K_test\n",
    "\n",
    "print \"Average count of non-ASCII characters per training title with non-ASCIIs:\", actual_nonascii_1K_test "
   ]
  },
  {
   "cell_type": "markdown",
   "metadata": {
    "collapsed": true
   },
   "source": [
    "#### Presence of non-ASCII characters in 5,000 real training titles: "
   ]
  },
  {
   "cell_type": "code",
   "execution_count": 36,
   "metadata": {
    "collapsed": false
   },
   "outputs": [
    {
     "name": "stdout",
     "output_type": "stream",
     "text": [
      "Average count of non-ASCII characters per training title with non-ASCIIs: 3\n"
     ]
    }
   ],
   "source": [
    "# Find titles with non-ascii characters\n",
    "nonascii_lines5K = []\n",
    "\n",
    "for line in blackhole_5K:\n",
    "  a = re.sub('[\\x00-\\x7f]', '', line)\n",
    "  nonascii_lines5K.append(a)\n",
    "\n",
    "# Drop empty elements in the list (titles with no ascii characters)\n",
    "nonascii_notempty_5K = filter(None, nonascii_lines5K)\n",
    "count_nonascii_notempty_5K = len(nonascii_notempty_5K)\n",
    "\n",
    "# Calculate average number of non-ascii characters in a title when the title contains non-ascii characters\n",
    "actual_nonascii_5K = sum([len(i) for i in nonascii_notempty_5K])/count_nonascii_notempty_5K\n",
    "\n",
    "print \"Average count of non-ASCII characters per training title with non-ASCIIs:\", actual_nonascii_5K "
   ]
  },
  {
   "cell_type": "markdown",
   "metadata": {},
   "source": [
    "#### Presence of non-ASCII characters in sampled titles trained on 5,000 real titles:"
   ]
  },
  {
   "cell_type": "code",
   "execution_count": 37,
   "metadata": {
    "collapsed": false
   },
   "outputs": [
    {
     "name": "stdout",
     "output_type": "stream",
     "text": [
      "Average count of non-ASCII characters per training title with non-ASCIIs: 26\n"
     ]
    }
   ],
   "source": [
    "blackhole_5K_test = [line.rstrip('\\n') for line in open('blackhole_5000_sample_nl.txt')]\n",
    "\n",
    "# Find titles with non-ascii characters\n",
    "nonascii_lines5K_test = []\n",
    "\n",
    "for line in blackhole_5K_test:\n",
    "  a = re.sub('[\\x00-\\x7f]', '', line)\n",
    "  nonascii_lines5K_test.append(a)\n",
    "\n",
    "# Drop empty elements in the list (titles with no ascii characters)\n",
    "nonascii_notempty_5K_test = filter(None, nonascii_lines5K_test)\n",
    "count_nonascii_notempty_5K_test = len(nonascii_notempty_5K_test)\n",
    "\n",
    "# Calculate average number of non-ascii characters in a title when the title contains non-ascii characters\n",
    "actual_nonascii_5K_test = sum([len(i) for i in nonascii_notempty_5K_test])/count_nonascii_notempty_5K_test\n",
    "\n",
    "print \"Average count of non-ASCII characters per training title with non-ASCIIs:\", actual_nonascii_5K_test "
   ]
  },
  {
   "cell_type": "markdown",
   "metadata": {},
   "source": [
    "#### Presence of non-ASCII characters in 10,000 real training titles: "
   ]
  },
  {
   "cell_type": "code",
   "execution_count": 38,
   "metadata": {
    "collapsed": false
   },
   "outputs": [
    {
     "name": "stdout",
     "output_type": "stream",
     "text": [
      "Average count of non-ASCII characters per training title with non-ASCIIs: 3\n"
     ]
    }
   ],
   "source": [
    "# Find titles with non-ascii characters\n",
    "nonascii_lines10K = []\n",
    "\n",
    "for line in blackhole_10K:\n",
    "  a = re.sub('[\\x00-\\x7f]', '', line)\n",
    "  nonascii_lines10K.append(a)\n",
    "\n",
    "# Drop empty elements in the list (titles with no ascii characters)\n",
    "nonascii_notempty_10K = filter(None, nonascii_lines10K)\n",
    "count_nonascii_notempty_10K = len(nonascii_notempty_10K)\n",
    "\n",
    "# Calculate average number of non-ascii characters in a title when the title contains non-ascii characters\n",
    "actual_nonascii_10K = sum([len(i) for i in nonascii_notempty_10K])/count_nonascii_notempty_10K\n",
    "\n",
    "print \"Average count of non-ASCII characters per training title with non-ASCIIs:\", actual_nonascii_10K "
   ]
  },
  {
   "cell_type": "markdown",
   "metadata": {},
   "source": [
    "#### Presence of non-ASCII characters in sampled titles trained on 10,000 real titles:"
   ]
  },
  {
   "cell_type": "code",
   "execution_count": 39,
   "metadata": {
    "collapsed": false
   },
   "outputs": [
    {
     "name": "stdout",
     "output_type": "stream",
     "text": [
      "Average count of non-ASCII characters per training title with non-ASCIIs: 6\n"
     ]
    }
   ],
   "source": [
    "blackhole_10K_test = [line.rstrip('\\n') for line in open('blackhole_10000_sample_nl.txt')]\n",
    "\n",
    "# Find titles with non-ascii characters\n",
    "nonascii_lines10K_test = []\n",
    "\n",
    "for line in blackhole_10K_test:\n",
    "  a = re.sub('[\\x00-\\x7f]', '', line)\n",
    "  nonascii_lines10K_test.append(a)\n",
    "\n",
    "# Drop empty elements in the list (titles with no ascii characters)\n",
    "nonascii_notempty_10K_test = filter(None, nonascii_lines10K_test)\n",
    "count_nonascii_notempty_10K_test = len(nonascii_notempty_10K_test)\n",
    "\n",
    "# Calculate average number of non-ascii characters in a title when the title contains non-ascii characters\n",
    "actual_nonascii_10K_test = sum([len(i) for i in nonascii_notempty_10K_test])/count_nonascii_notempty_10K_test\n",
    "\n",
    "print \"Average count of non-ASCII characters per training title with non-ASCIIs:\", actual_nonascii_10K_test "
   ]
  },
  {
   "cell_type": "markdown",
   "metadata": {},
   "source": [
    "#### Presence of non-ASCII characters in 20,000 real training titles: "
   ]
  },
  {
   "cell_type": "code",
   "execution_count": 40,
   "metadata": {
    "collapsed": false
   },
   "outputs": [
    {
     "name": "stdout",
     "output_type": "stream",
     "text": [
      "Average count of non-ASCII characters per training title with non-ASCIIs: 3\n"
     ]
    }
   ],
   "source": [
    "# Find titles with non-ascii characters\n",
    "nonascii_lines20K = []\n",
    "\n",
    "for line in blackhole_20K:\n",
    "  a = re.sub('[\\x00-\\x7f]', '', line)\n",
    "  nonascii_lines20K.append(a)\n",
    "\n",
    "# Drop empty elements in the list (titles with no ascii characters)\n",
    "nonascii_notempty_20K = filter(None, nonascii_lines20K)\n",
    "count_nonascii_notempty_20K = len(nonascii_notempty_20K)\n",
    "\n",
    "# Calculate average number of non-ascii characters in a title when the title contains non-ascii characters\n",
    "actual_nonascii_20K = sum([len(i) for i in nonascii_notempty_20K])/count_nonascii_notempty_20K\n",
    "\n",
    "print \"Average count of non-ASCII characters per training title with non-ASCIIs:\", actual_nonascii_20K "
   ]
  },
  {
   "cell_type": "markdown",
   "metadata": {},
   "source": [
    "#### Presence of non-ASCII characters in sampled titles trained on 10,000 real titles:"
   ]
  },
  {
   "cell_type": "code",
   "execution_count": 41,
   "metadata": {
    "collapsed": false
   },
   "outputs": [
    {
     "name": "stdout",
     "output_type": "stream",
     "text": [
      "Average count of non-ASCII characters per training title with non-ASCIIs: 6\n"
     ]
    }
   ],
   "source": [
    "blackhole_20K_test = [line.rstrip('\\n') for line in open('blackhole_20000_sample_nl.txt')]\n",
    "\n",
    "# Find titles with non-ascii characters\n",
    "nonascii_lines20K_test = []\n",
    "\n",
    "for line in blackhole_10K_test:\n",
    "  a = re.sub('[\\x00-\\x7f]', '', line)\n",
    "  nonascii_lines20K_test.append(a)\n",
    "\n",
    "# Drop empty elements in the list (titles with no ascii characters)\n",
    "nonascii_notempty_20K_test = filter(None, nonascii_lines20K_test)\n",
    "count_nonascii_notempty_20K_test = len(nonascii_notempty_20K_test)\n",
    "\n",
    "# Calculate average number of non-ascii characters in a title when the title contains non-ascii characters\n",
    "actual_nonascii_20K_test = sum([len(i) for i in nonascii_notempty_20K_test])/count_nonascii_notempty_20K_test\n",
    "\n",
    "print \"Average count of non-ASCII characters per training title with non-ASCIIs:\", actual_nonascii_20K_test "
   ]
  },
  {
   "cell_type": "markdown",
   "metadata": {},
   "source": [
    "### Combine results"
   ]
  },
  {
   "cell_type": "code",
   "execution_count": 42,
   "metadata": {
    "collapsed": false
   },
   "outputs": [],
   "source": [
    "blackhole_allresults = pd.DataFrame({'training_size': ['1K','5K','10K','20K'],'test': [actual_nonascii_1K_test, actual_nonascii_5K_test, actual_nonascii_10K_test, actual_nonascii_20K_test], 'actual': [actual_nonascii_1K, actual_nonascii_5K, actual_nonascii_10K, actual_nonascii_20K]})"
   ]
  },
  {
   "cell_type": "code",
   "execution_count": 43,
   "metadata": {
    "collapsed": false
   },
   "outputs": [
    {
     "data": {
      "text/html": [
       "<div>\n",
       "<table border=\"1\" class=\"dataframe\">\n",
       "  <thead>\n",
       "    <tr style=\"text-align: right;\">\n",
       "      <th></th>\n",
       "      <th>actual</th>\n",
       "      <th>test</th>\n",
       "      <th>training_size</th>\n",
       "    </tr>\n",
       "  </thead>\n",
       "  <tbody>\n",
       "    <tr>\n",
       "      <th>0</th>\n",
       "      <td>3</td>\n",
       "      <td>25</td>\n",
       "      <td>1K</td>\n",
       "    </tr>\n",
       "    <tr>\n",
       "      <th>1</th>\n",
       "      <td>3</td>\n",
       "      <td>26</td>\n",
       "      <td>5K</td>\n",
       "    </tr>\n",
       "    <tr>\n",
       "      <th>2</th>\n",
       "      <td>3</td>\n",
       "      <td>6</td>\n",
       "      <td>10K</td>\n",
       "    </tr>\n",
       "    <tr>\n",
       "      <th>3</th>\n",
       "      <td>3</td>\n",
       "      <td>6</td>\n",
       "      <td>20K</td>\n",
       "    </tr>\n",
       "  </tbody>\n",
       "</table>\n",
       "</div>"
      ],
      "text/plain": [
       "   actual  test training_size\n",
       "0       3    25            1K\n",
       "1       3    26            5K\n",
       "2       3     6           10K\n",
       "3       3     6           20K"
      ]
     },
     "execution_count": 43,
     "metadata": {},
     "output_type": "execute_result"
    }
   ],
   "source": [
    "blackhole_allresults"
   ]
  },
  {
   "cell_type": "code",
   "execution_count": null,
   "metadata": {
    "collapsed": true
   },
   "outputs": [],
   "source": []
  }
 ],
 "metadata": {
  "anaconda-cloud": {},
  "kernelspec": {
   "display_name": "Python [Root]",
   "language": "python",
   "name": "Python [Root]"
  },
  "language_info": {
   "codemirror_mode": {
    "name": "ipython",
    "version": 2
   },
   "file_extension": ".py",
   "mimetype": "text/x-python",
   "name": "python",
   "nbconvert_exporter": "python",
   "pygments_lexer": "ipython2",
   "version": "2.7.9"
  }
 },
 "nbformat": 4,
 "nbformat_minor": 0
}
