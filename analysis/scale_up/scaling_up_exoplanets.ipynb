{
 "cells": [
  {
   "cell_type": "markdown",
   "metadata": {},
   "source": [
    "## Scaling up the analysis - Exoplanets\n",
    "\n",
    "Looping through all sampled \"fake titles\" and doing cosine analysis"
   ]
  },
  {
   "cell_type": "code",
   "execution_count": 1,
   "metadata": {
    "collapsed": true
   },
   "outputs": [],
   "source": [
    "import math\n",
    "from sklearn.feature_extraction.text import TfidfVectorizer\n",
    "from sklearn.metrics.pairwise import cosine_similarity\n",
    "import re\n",
    "import pandas as pd\n",
    "import csv\n",
    "import os\n",
    "import random\n",
    "import numpy as np\n",
    "import seaborn as sns\n",
    "tfidf_vectorizer = TfidfVectorizer()"
   ]
  },
  {
   "cell_type": "markdown",
   "metadata": {},
   "source": [
    "### Cosine analysis: Exoplanets\n",
    "#### Exoplanet titles generated after training on 1,000 real exoplanet titles"
   ]
  },
  {
   "cell_type": "code",
   "execution_count": 2,
   "metadata": {
    "collapsed": false
   },
   "outputs": [],
   "source": [
    "exoplanet_1K = [line.rstrip('\\n') for line in open('exoplanet_1000_clean.txt')]\n",
    "df_exoplanet_1K = pd.DataFrame(exoplanet_1K)\n",
    "df_exoplanet_1K.columns = ['Title']"
   ]
  },
  {
   "cell_type": "code",
   "execution_count": null,
   "metadata": {
    "collapsed": false
   },
   "outputs": [],
   "source": [
    "test_results = []\n",
    "\n",
    "with open(\"exoplanet_1000_sample_nl.txt\", \"r\") as ins:\n",
    "    for line in ins:\n",
    "        df_exoplanet_1K_test = df_exoplanet_1K \n",
    "        df_exoplanet_1K_test.loc[-1] = [line]\n",
    "        df_exoplanet_1K_test.index = df_exoplanet_1K_test.index + 1\n",
    "        df_exoplanet_1K_test = df_exoplanet_1K_test.sort_index()\n",
    "        title_tuple = tuple(list(df_exoplanet_1K_test['Title']))\n",
    "        tfidf_matrix = tfidf_vectorizer.fit_transform(title_tuple)\n",
    "        cosine_sim_array = cosine_similarity(tfidf_matrix[0:1], tfidf_matrix)\n",
    "        cos_sim = np.partition(cosine_sim_array.flatten(), -2)[-2] \n",
    "        angle_in_degrees = math.acos(cos_sim)\n",
    "        most_similar1K = math.degrees(angle_in_degrees)\n",
    "        test_results.append(most_similar1K)"
   ]
  },
  {
   "cell_type": "code",
   "execution_count": 10,
   "metadata": {
    "collapsed": false
   },
   "outputs": [
    {
     "name": "stdout",
     "output_type": "stream",
     "text": [
      "80.1924938692\n"
     ]
    }
   ],
   "source": [
    "print reduce(lambda x, y: x + y, test_results) / len(test_results)"
   ]
  },
  {
   "cell_type": "code",
   "execution_count": 11,
   "metadata": {
    "collapsed": false
   },
   "outputs": [],
   "source": [
    "exoplanet_1K_results = pd.DataFrame(np.array(test_results), columns = ['CosineSim1K'])"
   ]
  },
  {
   "cell_type": "markdown",
   "metadata": {},
   "source": [
    "#### Exoplanet titles generated after training on 5,000 real exoplanet titles"
   ]
  },
  {
   "cell_type": "code",
   "execution_count": 12,
   "metadata": {
    "collapsed": true
   },
   "outputs": [],
   "source": [
    "exoplanet_5K = [line.rstrip('\\n') for line in open('exoplanet_5000_clean.txt')]\n",
    "df_exoplanet_5K = pd.DataFrame(exoplanet_5K)\n",
    "df_exoplanet_5K.columns = ['Title']"
   ]
  },
  {
   "cell_type": "code",
   "execution_count": 13,
   "metadata": {
    "collapsed": false
   },
   "outputs": [],
   "source": [
    "test_results = []\n",
    "\n",
    "with open(\"exoplanet_5000_sample_nl.txt\", \"r\") as ins:\n",
    "    for line in ins:\n",
    "        df_exoplanet_5K_test = df_exoplanet_5K \n",
    "        df_exoplanet_5K_test.loc[-1] = [line]\n",
    "        df_exoplanet_5K_test.index = df_exoplanet_5K_test.index + 1\n",
    "        df_exoplanet_5K_test = df_exoplanet_5K_test.sort_index()\n",
    "        title_tuple = tuple(list(df_exoplanet_5K_test['Title']))\n",
    "        tfidf_matrix = tfidf_vectorizer.fit_transform(title_tuple)\n",
    "        cosine_sim_array = cosine_similarity(tfidf_matrix[0:1], tfidf_matrix)\n",
    "        cos_sim = np.partition(cosine_sim_array.flatten(), -2)[-2] \n",
    "        angle_in_degrees = math.acos(cos_sim)\n",
    "        most_similar5K = math.degrees(angle_in_degrees)\n",
    "        test_results.append(most_similar5K)"
   ]
  },
  {
   "cell_type": "code",
   "execution_count": 14,
   "metadata": {
    "collapsed": false
   },
   "outputs": [
    {
     "name": "stdout",
     "output_type": "stream",
     "text": [
      "79.4951672468\n"
     ]
    }
   ],
   "source": [
    "print reduce(lambda x, y: x + y, test_results) / len(test_results)"
   ]
  },
  {
   "cell_type": "code",
   "execution_count": 15,
   "metadata": {
    "collapsed": false
   },
   "outputs": [],
   "source": [
    "exoplanet_5K_results = pd.DataFrame(np.array(test_results), columns = ['CosineSim5K'])"
   ]
  },
  {
   "cell_type": "markdown",
   "metadata": {},
   "source": [
    "#### Exoplanet titles generated after training on 10,000 real exoplanet titles"
   ]
  },
  {
   "cell_type": "code",
   "execution_count": 16,
   "metadata": {
    "collapsed": true
   },
   "outputs": [],
   "source": [
    "exoplanet_10K = [line.rstrip('\\n') for line in open('exoplanet_10000_clean.txt')]\n",
    "df_exoplanet_10K = pd.DataFrame(exoplanet_10K)\n",
    "df_exoplanet_10K.columns = ['Title']"
   ]
  },
  {
   "cell_type": "code",
   "execution_count": 17,
   "metadata": {
    "collapsed": true
   },
   "outputs": [],
   "source": [
    "test_results = []\n",
    "\n",
    "with open(\"exoplanet_10000_sample_nl.txt\", \"r\") as ins:\n",
    "    for line in ins:\n",
    "        df_exoplanet_10K_test = df_exoplanet_10K \n",
    "        df_exoplanet_10K_test.loc[-1] = [line]\n",
    "        df_exoplanet_10K_test.index = df_exoplanet_10K_test.index + 1\n",
    "        df_exoplanet_10K_test = df_exoplanet_10K_test.sort_index()\n",
    "        title_tuple = tuple(list(df_exoplanet_10K_test['Title']))\n",
    "        tfidf_matrix = tfidf_vectorizer.fit_transform(title_tuple)\n",
    "        cosine_sim_array = cosine_similarity(tfidf_matrix[0:1], tfidf_matrix)\n",
    "        cos_sim = np.partition(cosine_sim_array.flatten(), -2)[-2] \n",
    "        angle_in_degrees = math.acos(cos_sim)\n",
    "        most_similar10K = math.degrees(angle_in_degrees)\n",
    "        test_results.append(most_similar10K)"
   ]
  },
  {
   "cell_type": "code",
   "execution_count": 18,
   "metadata": {
    "collapsed": false
   },
   "outputs": [
    {
     "name": "stdout",
     "output_type": "stream",
     "text": [
      "81.8619718489\n"
     ]
    }
   ],
   "source": [
    "print reduce(lambda x, y: x + y, test_results) / len(test_results)"
   ]
  },
  {
   "cell_type": "code",
   "execution_count": 19,
   "metadata": {
    "collapsed": true
   },
   "outputs": [],
   "source": [
    "exoplanet_10K_results = pd.DataFrame(np.array(test_results), columns = ['CosineSim10K'])"
   ]
  },
  {
   "cell_type": "markdown",
   "metadata": {},
   "source": [
    "#### Exoplanet titles generated after training on 20,000 real exoplanet titles"
   ]
  },
  {
   "cell_type": "code",
   "execution_count": 20,
   "metadata": {
    "collapsed": true
   },
   "outputs": [],
   "source": [
    "exoplanet_20K = [line.rstrip('\\n') for line in open('exoplanet_20000_clean.txt')]\n",
    "df_exoplanet_20K = pd.DataFrame(exoplanet_20K)\n",
    "df_exoplanet_20K.columns = ['Title']"
   ]
  },
  {
   "cell_type": "code",
   "execution_count": 21,
   "metadata": {
    "collapsed": true
   },
   "outputs": [],
   "source": [
    "test_results = []\n",
    "\n",
    "with open(\"exoplanet_20000_sample_nl.txt\", \"r\") as ins:\n",
    "    for line in ins:\n",
    "        df_exoplanet_20K_test = df_exoplanet_20K \n",
    "        df_exoplanet_20K_test.loc[-1] = [line]\n",
    "        df_exoplanet_20K_test.index = df_exoplanet_20K_test.index + 1\n",
    "        df_exoplanet_20K_test = df_exoplanet_20K_test.sort_index()\n",
    "        title_tuple = tuple(list(df_exoplanet_20K_test['Titddele']))\n",
    "        tfidf_matrix = tfidf_vectorizer.fit_transform(title_tuple)\n",
    "        cosine_sim_array = cosine_similarity(tfidf_matrix[0:1], tfidf_matrix)\n",
    "        cos_sim = np.partition(cosine_sim_array.flatten(), -2)[-2] \n",
    "        angle_in_degrees = math.acos(cos_sim)\n",
    "        most_similar20K = math.degrees(angle_in_degrees)\n",
    "        test_results.append(most_similar20K)"
   ]
  },
  {
   "cell_type": "code",
   "execution_count": 22,
   "metadata": {
    "collapsed": false
   },
   "outputs": [
    {
     "name": "stdout",
     "output_type": "stream",
     "text": [
      "80.8251733446\n"
     ]
    }
   ],
   "source": [
    "print reduce(lambda x, y: x + y, test_results) / len(test_results)"
   ]
  },
  {
   "cell_type": "code",
   "execution_count": 23,
   "metadata": {
    "collapsed": true
   },
   "outputs": [],
   "source": [
    "exoplanet_20K_results = pd.DataFrame(np.array(test_results), columns = ['CosineSim20K'])"
   ]
  },
  {
   "cell_type": "markdown",
   "metadata": {},
   "source": [
    "### Combine and reshape all astrobiology results"
   ]
  },
  {
   "cell_type": "code",
   "execution_count": 24,
   "metadata": {
    "collapsed": true
   },
   "outputs": [],
   "source": [
    "exoplanet_allresults = pd.concat([exoplanet_1K_results, exoplanet_5K_results, exoplanet_10K_results, exoplanet_20K_results], axis=1)"
   ]
  },
  {
   "cell_type": "code",
   "execution_count": 25,
   "metadata": {
    "collapsed": false
   },
   "outputs": [
    {
     "data": {
      "text/html": [
       "<div>\n",
       "<table border=\"1\" class=\"dataframe\">\n",
       "  <thead>\n",
       "    <tr style=\"text-align: right;\">\n",
       "      <th></th>\n",
       "      <th>CosineSim1K</th>\n",
       "      <th>CosineSim5K</th>\n",
       "      <th>CosineSim10K</th>\n",
       "      <th>CosineSim20K</th>\n",
       "    </tr>\n",
       "  </thead>\n",
       "  <tbody>\n",
       "    <tr>\n",
       "      <th>0</th>\n",
       "      <td>80.653583</td>\n",
       "      <td>84.087675</td>\n",
       "      <td>82.520846</td>\n",
       "      <td>82.591392</td>\n",
       "    </tr>\n",
       "    <tr>\n",
       "      <th>1</th>\n",
       "      <td>76.703233</td>\n",
       "      <td>85.053747</td>\n",
       "      <td>85.100398</td>\n",
       "      <td>74.342418</td>\n",
       "    </tr>\n",
       "    <tr>\n",
       "      <th>2</th>\n",
       "      <td>84.184896</td>\n",
       "      <td>77.565300</td>\n",
       "      <td>81.275848</td>\n",
       "      <td>81.953176</td>\n",
       "    </tr>\n",
       "    <tr>\n",
       "      <th>3</th>\n",
       "      <td>72.753904</td>\n",
       "      <td>82.933924</td>\n",
       "      <td>81.278596</td>\n",
       "      <td>81.521289</td>\n",
       "    </tr>\n",
       "    <tr>\n",
       "      <th>4</th>\n",
       "      <td>83.058460</td>\n",
       "      <td>80.234314</td>\n",
       "      <td>78.226419</td>\n",
       "      <td>82.399718</td>\n",
       "    </tr>\n",
       "  </tbody>\n",
       "</table>\n",
       "</div>"
      ],
      "text/plain": [
       "   CosineSim1K  CosineSim5K  CosineSim10K  CosineSim20K\n",
       "0    80.653583    84.087675     82.520846     82.591392\n",
       "1    76.703233    85.053747     85.100398     74.342418\n",
       "2    84.184896    77.565300     81.275848     81.953176\n",
       "3    72.753904    82.933924     81.278596     81.521289\n",
       "4    83.058460    80.234314     78.226419     82.399718"
      ]
     },
     "execution_count": 25,
     "metadata": {},
     "output_type": "execute_result"
    }
   ],
   "source": [
    "exoplanet_allresults.head()"
   ]
  },
  {
   "cell_type": "code",
   "execution_count": 26,
   "metadata": {
    "collapsed": false
   },
   "outputs": [
    {
     "data": {
      "text/html": [
       "<div>\n",
       "<table border=\"1\" class=\"dataframe\">\n",
       "  <thead>\n",
       "    <tr style=\"text-align: right;\">\n",
       "      <th></th>\n",
       "      <th>TrainingDataSize</th>\n",
       "      <th>CosineSim</th>\n",
       "    </tr>\n",
       "  </thead>\n",
       "  <tbody>\n",
       "    <tr>\n",
       "      <th>0</th>\n",
       "      <td>CosineSim1K</td>\n",
       "      <td>80.653583</td>\n",
       "    </tr>\n",
       "    <tr>\n",
       "      <th>1</th>\n",
       "      <td>CosineSim1K</td>\n",
       "      <td>76.703233</td>\n",
       "    </tr>\n",
       "    <tr>\n",
       "      <th>2</th>\n",
       "      <td>CosineSim1K</td>\n",
       "      <td>84.184896</td>\n",
       "    </tr>\n",
       "    <tr>\n",
       "      <th>3</th>\n",
       "      <td>CosineSim1K</td>\n",
       "      <td>72.753904</td>\n",
       "    </tr>\n",
       "    <tr>\n",
       "      <th>4</th>\n",
       "      <td>CosineSim1K</td>\n",
       "      <td>83.058460</td>\n",
       "    </tr>\n",
       "  </tbody>\n",
       "</table>\n",
       "</div>"
      ],
      "text/plain": [
       "  TrainingDataSize  CosineSim\n",
       "0      CosineSim1K  80.653583\n",
       "1      CosineSim1K  76.703233\n",
       "2      CosineSim1K  84.184896\n",
       "3      CosineSim1K  72.753904\n",
       "4      CosineSim1K  83.058460"
      ]
     },
     "execution_count": 26,
     "metadata": {},
     "output_type": "execute_result"
    }
   ],
   "source": [
    "exoplanet_allresults = pd.melt(exoplanet_allresults)\n",
    "exoplanet_allresults.columns = ['TrainingDataSize', 'CosineSim']\n",
    "exoplanet_allresults.head()"
   ]
  },
  {
   "cell_type": "markdown",
   "metadata": {},
   "source": [
    "### Plot the results"
   ]
  },
  {
   "cell_type": "code",
   "execution_count": 28,
   "metadata": {
    "collapsed": false
   },
   "outputs": [
    {
     "data": {
      "image/png": "[encoded data removed]",
      "text/plain": [
       "<matplotlib.figure.Figure at 0x12ebf9050>"
      ]
     },
     "metadata": {},
     "output_type": "display_data"
    }
   ],
   "source": [
    "%matplotlib inline\n",
    "sns.set_style(\"whitegrid\")\n",
    "ax = sns.violinplot(x=\"TrainingDataSize\", y=\"CosineSim\", data=exoplanet_allresults)"
   ]
  },
  {
   "cell_type": "markdown",
   "metadata": {},
   "source": [
    "### Calculate Average Number of Unique Words in Each Training Set\n",
    "#### Average Unique Words in black hole 1,000 title sample"
   ]
  },
  {
   "cell_type": "code",
   "execution_count": 29,
   "metadata": {
    "collapsed": false
   },
   "outputs": [
    {
     "data": {
      "text/plain": [
       "13"
      ]
     },
     "execution_count": 29,
     "metadata": {},
     "output_type": "execute_result"
    }
   ],
   "source": [
    "unique1K = [len(line.split()) for line in exoplanet_1K]\n",
    "avg_unique1K = (sum(unique1K) / len(unique1K))\n",
    "avg_unique1K"
   ]
  },
  {
   "cell_type": "code",
   "execution_count": 30,
   "metadata": {
    "collapsed": false
   },
   "outputs": [
    {
     "data": {
      "text/plain": [
       "12"
      ]
     },
     "execution_count": 30,
     "metadata": {},
     "output_type": "execute_result"
    }
   ],
   "source": [
    "unique5K = [len(line.split()) for line in exoplanet_5K]\n",
    "avg_unique5K = (sum(unique5K) / len(unique5K))\n",
    "avg_unique5K"
   ]
  },
  {
   "cell_type": "code",
   "execution_count": 31,
   "metadata": {
    "collapsed": false
   },
   "outputs": [
    {
     "data": {
      "text/plain": [
       "12"
      ]
     },
     "execution_count": 31,
     "metadata": {},
     "output_type": "execute_result"
    }
   ],
   "source": [
    "unique10K = [len(line.split()) for line in exoplanet_10K]\n",
    "avg_unique10K = (sum(unique10K) / len(unique10K))\n",
    "avg_unique10K"
   ]
  },
  {
   "cell_type": "code",
   "execution_count": 32,
   "metadata": {
    "collapsed": false
   },
   "outputs": [
    {
     "data": {
      "text/plain": [
       "12"
      ]
     },
     "execution_count": 32,
     "metadata": {},
     "output_type": "execute_result"
    }
   ],
   "source": [
    "unique20K = [len(line.split()) for line in exoplanet_20K]\n",
    "avg_unique20K = (sum(unique20K) / len(unique20K))\n",
    "avg_unique20K"
   ]
  },
  {
   "cell_type": "markdown",
   "metadata": {},
   "source": [
    "### ASCII Analysis\n",
    "#### Presence of non-ASCII characters in 1,000 real training titles: "
   ]
  },
  {
   "cell_type": "code",
   "execution_count": 33,
   "metadata": {
    "collapsed": false
   },
   "outputs": [
    {
     "name": "stdout",
     "output_type": "stream",
     "text": [
      "Average count of non-ASCII characters per training title with non-ASCIIs: 3\n"
     ]
    }
   ],
   "source": [
    "# Find titles with non-ascii characters\n",
    "nonascii_lines1K = []\n",
    "\n",
    "for line in exoplanet_1K:\n",
    "  a = re.sub('[\\x00-\\x7f]', '', line)\n",
    "  nonascii_lines1K.append(a)\n",
    "\n",
    "# Drop empty elements in the list (titles with no ascii characters)\n",
    "nonascii_notempty_1K = filter(None, nonascii_lines1K)\n",
    "count_nonascii_notempty_1K = len(nonascii_notempty_1K)\n",
    "\n",
    "# Calculate average number of non-ascii characters in a title when the title contains non-ascii characters\n",
    "actual_nonascii_1K = sum([len(i) for i in nonascii_notempty_1K])/count_nonascii_notempty_1K\n",
    "\n",
    "print \"Average count of non-ASCII characters per training title with non-ASCIIs:\", actual_nonascii_1K "
   ]
  },
  {
   "cell_type": "markdown",
   "metadata": {},
   "source": [
    "#### Presence of non-ASCII characters in sampled titles trained on 1,000 real titles:"
   ]
  },
  {
   "cell_type": "code",
   "execution_count": 35,
   "metadata": {
    "collapsed": false
   },
   "outputs": [
    {
     "name": "stdout",
     "output_type": "stream",
     "text": [
      "Average count of non-ASCII characters per training title with non-ASCIIs: 8\n"
     ]
    }
   ],
   "source": [
    "exoplanet_1K_test = [line.rstrip('\\n') for line in open('exoplanet_1000_sample_nl.txt')]\n",
    "\n",
    "# Find titles with non-ascii characters\n",
    "nonascii_lines1K_test = []\n",
    "\n",
    "for line in exoplanet_1K_test:\n",
    "  a = re.sub('[\\x00-\\x7f]', '', line)\n",
    "  nonascii_lines1K_test.append(a)\n",
    "\n",
    "# Drop empty elements in the list (titles with no ascii characters)\n",
    "nonascii_notempty_1K_test = filter(None, nonascii_lines1K_test)\n",
    "count_nonascii_notempty_1K_test = len(nonascii_notempty_1K_test)\n",
    "\n",
    "# Calculate average number of non-ascii characters in a title when the title contains non-ascii characters\n",
    "actual_nonascii_1K_test = sum([len(i) for i in nonascii_notempty_1K_test])/count_nonascii_notempty_1K_test\n",
    "\n",
    "print \"Average count of non-ASCII characters per training title with non-ASCIIs:\", actual_nonascii_1K_test "
   ]
  },
  {
   "cell_type": "markdown",
   "metadata": {
    "collapsed": true
   },
   "source": [
    "#### Presence of non-ASCII characters in 5,000 real training titles: "
   ]
  },
  {
   "cell_type": "code",
   "execution_count": 38,
   "metadata": {
    "collapsed": false
   },
   "outputs": [
    {
     "name": "stdout",
     "output_type": "stream",
     "text": [
      "Average count of non-ASCII characters per training title with non-ASCIIs: 2\n"
     ]
    }
   ],
   "source": [
    "# Find titles with non-ascii characters\n",
    "nonascii_lines5K = []\n",
    "\n",
    "for line in exoplanet_5K:\n",
    "  a = re.sub('[\\x00-\\x7f]', '', line)\n",
    "  nonascii_lines5K.append(a)\n",
    "\n",
    "# Drop empty elements in the list (titles with no ascii characters)\n",
    "nonascii_notempty_5K = filter(None, nonascii_lines5K)\n",
    "count_nonascii_notempty_5K = len(nonascii_notempty_5K)\n",
    "\n",
    "# Calculate average number of non-ascii characters in a title when the title contains non-ascii characters\n",
    "actual_nonascii_5K = sum([len(i) for i in nonascii_notempty_5K])/count_nonascii_notempty_5K\n",
    "\n",
    "print \"Average count of non-ASCII characters per training title with non-ASCIIs:\", actual_nonascii_5K "
   ]
  },
  {
   "cell_type": "markdown",
   "metadata": {},
   "source": [
    "#### Presence of non-ASCII characters in sampled titles trained on 5,000 real titles:"
   ]
  },
  {
   "cell_type": "code",
   "execution_count": 39,
   "metadata": {
    "collapsed": false
   },
   "outputs": [
    {
     "name": "stdout",
     "output_type": "stream",
     "text": [
      "Average count of non-ASCII characters per training title with non-ASCIIs: 9\n"
     ]
    }
   ],
   "source": [
    "exoplanet_5K_test = [line.rstrip('\\n') for line in open('exoplanet_5000_sample_nl.txt')]\n",
    "\n",
    "# Find titles with non-ascii characters\n",
    "nonascii_lines5K_test = []\n",
    "\n",
    "for line in exoplanet_5K_test:\n",
    "  a = re.sub('[\\x00-\\x7f]', '', line)\n",
    "  nonascii_lines5K_test.append(a)\n",
    "\n",
    "# Drop empty elements in the list (titles with no ascii characters)\n",
    "nonascii_notempty_5K_test = filter(None, nonascii_lines5K_test)\n",
    "count_nonascii_notempty_5K_test = len(nonascii_notempty_5K_test)\n",
    "\n",
    "# Calculate average number of non-ascii characters in a title when the title contains non-ascii characters\n",
    "actual_nonascii_5K_test = sum([len(i) for i in nonascii_notempty_5K_test])/count_nonascii_notempty_5K_test\n",
    "\n",
    "print \"Average count of non-ASCII characters per training title with non-ASCIIs:\", actual_nonascii_5K_test "
   ]
  },
  {
   "cell_type": "markdown",
   "metadata": {},
   "source": [
    "#### Presence of non-ASCII characters in 10,000 real training titles: "
   ]
  },
  {
   "cell_type": "code",
   "execution_count": 40,
   "metadata": {
    "collapsed": false
   },
   "outputs": [
    {
     "name": "stdout",
     "output_type": "stream",
     "text": [
      "Average count of non-ASCII characters per training title with non-ASCIIs: 3\n"
     ]
    }
   ],
   "source": [
    "# Find titles with non-ascii characters\n",
    "nonascii_lines10K = []\n",
    "\n",
    "for line in exoplanet_10K:\n",
    "  a = re.sub('[\\x00-\\x7f]', '', line)\n",
    "  nonascii_lines10K.append(a)\n",
    "\n",
    "# Drop empty elements in the list (titles with no ascii characters)\n",
    "nonascii_notempty_10K = filter(None, nonascii_lines10K)\n",
    "count_nonascii_notempty_10K = len(nonascii_notempty_10K)\n",
    "\n",
    "# Calculate average number of non-ascii characters in a title when the title contains non-ascii characters\n",
    "actual_nonascii_10K = sum([len(i) for i in nonascii_notempty_10K])/count_nonascii_notempty_10K\n",
    "\n",
    "print \"Average count of non-ASCII characters per training title with non-ASCIIs:\", actual_nonascii_10K "
   ]
  },
  {
   "cell_type": "markdown",
   "metadata": {},
   "source": [
    "#### Presence of non-ASCII characters in sampled titles trained on 10,000 real titles:"
   ]
  },
  {
   "cell_type": "code",
   "execution_count": 41,
   "metadata": {
    "collapsed": false
   },
   "outputs": [
    {
     "name": "stdout",
     "output_type": "stream",
     "text": [
      "Average count of non-ASCII characters per training title with non-ASCIIs: 15\n"
     ]
    }
   ],
   "source": [
    "exoplanet_10K_test = [line.rstrip('\\n') for line in open('exoplanet_10000_sample_nl.txt')]\n",
    "\n",
    "# Find titles with non-ascii characters\n",
    "nonascii_lines10K_test = []\n",
    "\n",
    "for line in exoplanet_10K_test:\n",
    "  a = re.sub('[\\x00-\\x7f]', '', line)\n",
    "  nonascii_lines10K_test.append(a)\n",
    "\n",
    "# Drop empty elements in the list (titles with no ascii characters)\n",
    "nonascii_notempty_10K_test = filter(None, nonascii_lines10K_test)\n",
    "count_nonascii_notempty_10K_test = len(nonascii_notempty_10K_test)\n",
    "\n",
    "# Calculate average number of non-ascii characters in a title when the title contains non-ascii characters\n",
    "actual_nonascii_10K_test = sum([len(i) for i in nonascii_notempty_10K_test])/count_nonascii_notempty_10K_test\n",
    "\n",
    "print \"Average count of non-ASCII characters per training title with non-ASCIIs:\", actual_nonascii_10K_test "
   ]
  },
  {
   "cell_type": "markdown",
   "metadata": {},
   "source": [
    "#### Presence of non-ASCII characters in 20,000 real training titles: "
   ]
  },
  {
   "cell_type": "code",
   "execution_count": 43,
   "metadata": {
    "collapsed": false
   },
   "outputs": [
    {
     "name": "stdout",
     "output_type": "stream",
     "text": [
      "Average count of non-ASCII characters per training title with non-ASCIIs: 3\n"
     ]
    }
   ],
   "source": [
    "# Find titles with non-ascii characters\n",
    "nonascii_lines20K = []\n",
    "\n",
    "for line in exoplanet_20K:\n",
    "  a = re.sub('[\\x00-\\x7f]', '', line)\n",
    "  nonascii_lines20K.append(a)\n",
    "\n",
    "# Drop empty elements in the list (titles with no ascii characters)\n",
    "nonascii_notempty_20K = filter(None, nonascii_lines20K)\n",
    "count_nonascii_notempty_20K = len(nonascii_notempty_20K)\n",
    "\n",
    "# Calculate average number of non-ascii characters in a title when the title contains non-ascii characters\n",
    "actual_nonascii_20K = sum([len(i) for i in nonascii_notempty_20K])/count_nonascii_notempty_20K\n",
    "\n",
    "print \"Average count of non-ASCII characters per training title with non-ASCIIs:\", actual_nonascii_20K "
   ]
  },
  {
   "cell_type": "markdown",
   "metadata": {},
   "source": [
    "#### Presence of non-ASCII characters in sampled titles trained on 10,000 real titles:"
   ]
  },
  {
   "cell_type": "code",
   "execution_count": 44,
   "metadata": {
    "collapsed": false
   },
   "outputs": [
    {
     "name": "stdout",
     "output_type": "stream",
     "text": [
      "Average count of non-ASCII characters per training title with non-ASCIIs: 15\n"
     ]
    }
   ],
   "source": [
    "exoplanet_20K_test = [line.rstrip('\\n') for line in open('exoplanet_20000_sample_nl.txt')]\n",
    "\n",
    "# Find titles with non-ascii characters\n",
    "nonascii_lines20K_test = []\n",
    "\n",
    "for line in exoplanet_10K_test:\n",
    "  a = re.sub('[\\x00-\\x7f]', '', line)\n",
    "  nonascii_lines20K_test.append(a)\n",
    "\n",
    "# Drop empty elements in the list (titles with no ascii characters)\n",
    "nonascii_notempty_20K_test = filter(None, nonascii_lines20K_test)\n",
    "count_nonascii_notempty_20K_test = len(nonascii_notempty_20K_test)\n",
    "\n",
    "# Calculate average number of non-ascii characters in a title when the title contains non-ascii characters\n",
    "actual_nonascii_20K_test = sum([len(i) for i in nonascii_notempty_20K_test])/count_nonascii_notempty_20K_test\n",
    "\n",
    "print \"Average count of non-ASCII characters per training title with non-ASCIIs:\", actual_nonascii_20K_test "
   ]
  },
  {
   "cell_type": "markdown",
   "metadata": {},
   "source": [
    "### Combine results"
   ]
  },
  {
   "cell_type": "code",
   "execution_count": 66,
   "metadata": {
    "collapsed": false
   },
   "outputs": [],
   "source": [
    "exoplanet_allresults = pd.DataFrame({'training_size': ['1K','5K','10K','20K'],'test': [actual_nonascii_1K_test, actual_nonascii_5K_test, actual_nonascii_10K_test, actual_nonascii_20K_test], 'actual': [actual_nonascii_1K, actual_nonascii_5K, actual_nonascii_10K, actual_nonascii_20K]})"
   ]
  },
  {
   "cell_type": "code",
   "execution_count": 67,
   "metadata": {
    "collapsed": false
   },
   "outputs": [
    {
     "data": {
      "text/html": [
       "<div>\n",
       "<table border=\"1\" class=\"dataframe\">\n",
       "  <thead>\n",
       "    <tr style=\"text-align: right;\">\n",
       "      <th></th>\n",
       "      <th>actual</th>\n",
       "      <th>test</th>\n",
       "      <th>training_size</th>\n",
       "    </tr>\n",
       "  </thead>\n",
       "  <tbody>\n",
       "    <tr>\n",
       "      <th>0</th>\n",
       "      <td>3</td>\n",
       "      <td>8</td>\n",
       "      <td>1K</td>\n",
       "    </tr>\n",
       "    <tr>\n",
       "      <th>1</th>\n",
       "      <td>2</td>\n",
       "      <td>9</td>\n",
       "      <td>5K</td>\n",
       "    </tr>\n",
       "    <tr>\n",
       "      <th>2</th>\n",
       "      <td>3</td>\n",
       "      <td>15</td>\n",
       "      <td>10K</td>\n",
       "    </tr>\n",
       "    <tr>\n",
       "      <th>3</th>\n",
       "      <td>3</td>\n",
       "      <td>15</td>\n",
       "      <td>20K</td>\n",
       "    </tr>\n",
       "  </tbody>\n",
       "</table>\n",
       "</div>"
      ],
      "text/plain": [
       "   actual  test training_size\n",
       "0       3     8            1K\n",
       "1       2     9            5K\n",
       "2       3    15           10K\n",
       "3       3    15           20K"
      ]
     },
     "execution_count": 67,
     "metadata": {},
     "output_type": "execute_result"
    }
   ],
   "source": [
    "exoplanet_allresults"
   ]
  },
  {
   "cell_type": "code",
   "execution_count": null,
   "metadata": {
    "collapsed": true
   },
   "outputs": [],
   "source": []
  }
 ],
 "metadata": {
  "anaconda-cloud": {},
  "kernelspec": {
   "display_name": "Python [Root]",
   "language": "python",
   "name": "Python [Root]"
  },
  "language_info": {
   "codemirror_mode": {
    "name": "ipython",
    "version": 2
   },
   "file_extension": ".py",
   "mimetype": "text/x-python",
   "name": "python",
   "nbconvert_exporter": "python",
   "pygments_lexer": "ipython2",
   "version": "2.7.9"
  }
 },
 "nbformat": 4,
 "nbformat_minor": 0
}
