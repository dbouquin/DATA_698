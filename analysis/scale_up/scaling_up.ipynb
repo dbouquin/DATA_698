{
 "cells": [
  {
   "cell_type": "markdown",
   "metadata": {},
   "source": [
    "## Scaling up the analysis\n",
    "\n",
    "Looping through all sampled \"fake titles\" and doing cosine analysis"
   ]
  },
  {
   "cell_type": "code",
   "execution_count": 67,
   "metadata": {
    "collapsed": true
   },
   "outputs": [],
   "source": [
    "import math\n",
    "from sklearn.feature_extraction.text import TfidfVectorizer\n",
    "from sklearn.metrics.pairwise import cosine_similarity\n",
    "import re\n",
    "import pandas as pd\n",
    "import csv\n",
    "import os\n",
    "import random\n",
    "import numpy as np\n",
    "import seaborn as sns\n",
    "tfidf_vectorizer = TfidfVectorizer()"
   ]
  },
  {
   "cell_type": "markdown",
   "metadata": {},
   "source": [
    "### Cosine analysis: Astrobiology\n",
    "#### Astrobiology titles generated after training on 1,000 real astrobiology titles"
   ]
  },
  {
   "cell_type": "code",
   "execution_count": 83,
   "metadata": {
    "collapsed": false
   },
   "outputs": [],
   "source": [
    "astrobio_1K = [line.rstrip('\\n') for line in open('astrobio_1000.txt')]\n",
    "df_astrobio_1K = pd.DataFrame(astrobio_1K)\n",
    "df_astrobio_1K.columns = ['Title']"
   ]
  },
  {
   "cell_type": "code",
   "execution_count": 84,
   "metadata": {
    "collapsed": false
   },
   "outputs": [],
   "source": [
    "test_results = []\n",
    "\n",
    "with open(\"astrobio_1000_sample.txt\", \"r\") as ins:\n",
    "    for line in ins:\n",
    "        df_astrobio_1K_test = df_astrobio_1K \n",
    "        df_astrobio_1K_test.loc[-1] = [line]\n",
    "        df_astrobio_1K_test.index = df_astrobio_1K_test.index + 1\n",
    "        df_astrobio_1K_test = df_astrobio_1K_test.sort_index()\n",
    "        title_tuple = tuple(list(df_astrobio_1K_test['Title']))\n",
    "        tfidf_matrix = tfidf_vectorizer.fit_transform(title_tuple)\n",
    "        cosine_sim_array = cosine_similarity(tfidf_matrix[0:1], tfidf_matrix)\n",
    "        cos_sim = np.partition(cosine_sim_array.flatten(), -2)[-2] \n",
    "        angle_in_degrees = math.acos(cos_sim)\n",
    "        most_similar1K = math.degrees(angle_in_degrees)\n",
    "        test_results.append(most_similar1K)"
   ]
  },
  {
   "cell_type": "code",
   "execution_count": 85,
   "metadata": {
    "collapsed": false
   },
   "outputs": [
    {
     "name": "stdout",
     "output_type": "stream",
     "text": [
      "79.6567113086\n"
     ]
    }
   ],
   "source": [
    "print reduce(lambda x, y: x + y, test_results) / len(test_results)"
   ]
  },
  {
   "cell_type": "code",
   "execution_count": 87,
   "metadata": {
    "collapsed": false
   },
   "outputs": [],
   "source": [
    "astrobio_1K_results = pd.DataFrame(np.array(test_results), columns = ['CosineSim1K'])"
   ]
  },
  {
   "cell_type": "markdown",
   "metadata": {},
   "source": [
    "#### Astrobiology titles generated after training on 5,000 real astrobiology titles"
   ]
  },
  {
   "cell_type": "code",
   "execution_count": 88,
   "metadata": {
    "collapsed": true
   },
   "outputs": [],
   "source": [
    "astrobio_5K = [line.rstrip('\\n') for line in open('astrobio_5000.txt')]\n",
    "df_astrobio_5K = pd.DataFrame(astrobio_5K)\n",
    "df_astrobio_5K.columns = ['Title']"
   ]
  },
  {
   "cell_type": "code",
   "execution_count": 89,
   "metadata": {
    "collapsed": false
   },
   "outputs": [],
   "source": [
    "test_results = []\n",
    "\n",
    "with open(\"astrobio_5000_sample.txt\", \"r\") as ins:\n",
    "    for line in ins:\n",
    "        df_astrobio_5K_test = df_astrobio_5K \n",
    "        df_astrobio_5K_test.loc[-1] = [line]\n",
    "        df_astrobio_5K_test.index = df_astrobio_5K_test.index + 1\n",
    "        df_astrobio_5K_test = df_astrobio_5K_test.sort_index()\n",
    "        title_tuple = tuple(list(df_astrobio_5K_test['Title']))\n",
    "        tfidf_matrix = tfidf_vectorizer.fit_transform(title_tuple)\n",
    "        cosine_sim_array = cosine_similarity(tfidf_matrix[0:1], tfidf_matrix)\n",
    "        cos_sim = np.partition(cosine_sim_array.flatten(), -2)[-2] \n",
    "        angle_in_degrees = math.acos(cos_sim)\n",
    "        most_similar5K = math.degrees(angle_in_degrees)\n",
    "        test_results.append(most_similar5K)"
   ]
  },
  {
   "cell_type": "code",
   "execution_count": 90,
   "metadata": {
    "collapsed": false
   },
   "outputs": [
    {
     "name": "stdout",
     "output_type": "stream",
     "text": [
      "83.1662435448\n"
     ]
    }
   ],
   "source": [
    "print reduce(lambda x, y: x + y, test_results) / len(test_results)"
   ]
  },
  {
   "cell_type": "code",
   "execution_count": 91,
   "metadata": {
    "collapsed": false
   },
   "outputs": [],
   "source": [
    "astrobio_5K_results = pd.DataFrame(np.array(test_results), columns = ['CosineSim5K'])"
   ]
  },
  {
   "cell_type": "markdown",
   "metadata": {},
   "source": [
    "#### Astrobiology titles generated after training on 10,000 real astrobiology titles"
   ]
  },
  {
   "cell_type": "code",
   "execution_count": 92,
   "metadata": {
    "collapsed": true
   },
   "outputs": [],
   "source": [
    "astrobio_10K = [line.rstrip('\\n') for line in open('astrobio_10000.txt')]\n",
    "df_astrobio_10K = pd.DataFrame(astrobio_10K)\n",
    "df_astrobio_10K.columns = ['Title']"
   ]
  },
  {
   "cell_type": "code",
   "execution_count": 93,
   "metadata": {
    "collapsed": true
   },
   "outputs": [],
   "source": [
    "test_results = []\n",
    "\n",
    "with open(\"astrobio_10000_sample.txt\", \"r\") as ins:\n",
    "    for line in ins:\n",
    "        df_astrobio_10K_test = df_astrobio_10K \n",
    "        df_astrobio_10K_test.loc[-1] = [line]\n",
    "        df_astrobio_10K_test.index = df_astrobio_10K_test.index + 1\n",
    "        df_astrobio_10K_test = df_astrobio_10K_test.sort_index()\n",
    "        title_tuple = tuple(list(df_astrobio_10K_test['Title']))\n",
    "        tfidf_matrix = tfidf_vectorizer.fit_transform(title_tuple)\n",
    "        cosine_sim_array = cosine_similarity(tfidf_matrix[0:1], tfidf_matrix)\n",
    "        cos_sim = np.partition(cosine_sim_array.flatten(), -2)[-2] \n",
    "        angle_in_degrees = math.acos(cos_sim)\n",
    "        most_similar10K = math.degrees(angle_in_degrees)\n",
    "        test_results.append(most_similar10K)"
   ]
  },
  {
   "cell_type": "code",
   "execution_count": 94,
   "metadata": {
    "collapsed": false
   },
   "outputs": [
    {
     "name": "stdout",
     "output_type": "stream",
     "text": [
      "80.7791340167\n"
     ]
    }
   ],
   "source": [
    "print reduce(lambda x, y: x + y, test_results) / len(test_results)"
   ]
  },
  {
   "cell_type": "code",
   "execution_count": 95,
   "metadata": {
    "collapsed": true
   },
   "outputs": [],
   "source": [
    "astrobio_10K_results = pd.DataFrame(np.array(test_results), columns = ['CosineSim10K'])"
   ]
  },
  {
   "cell_type": "markdown",
   "metadata": {},
   "source": [
    "#### Astrobiology titles generated after training on 20,000 real astrobiology titles"
   ]
  },
  {
   "cell_type": "code",
   "execution_count": 96,
   "metadata": {
    "collapsed": true
   },
   "outputs": [],
   "source": [
    "astrobio_20K = [line.rstrip('\\n') for line in open('astrobio_20000.txt')]\n",
    "df_astrobio_20K = pd.DataFrame(astrobio_20K)\n",
    "df_astrobio_20K.columns = ['Title']"
   ]
  },
  {
   "cell_type": "code",
   "execution_count": 97,
   "metadata": {
    "collapsed": true
   },
   "outputs": [],
   "source": [
    "test_results = []\n",
    "\n",
    "with open(\"astrobio_20000_sample.txt\", \"r\") as ins:\n",
    "    for line in ins:\n",
    "        df_astrobio_20K_test = df_astrobio_20K \n",
    "        df_astrobio_20K_test.loc[-1] = [line]\n",
    "        df_astrobio_20K_test.index = df_astrobio_20K_test.index + 1\n",
    "        df_astrobio_20K_test = df_astrobio_20K_test.sort_index()\n",
    "        title_tuple = tuple(list(df_astrobio_20K_test['Title']))\n",
    "        tfidf_matrix = tfidf_vectorizer.fit_transform(title_tuple)\n",
    "        cosine_sim_array = cosine_similarity(tfidf_matrix[0:1], tfidf_matrix)\n",
    "        cos_sim = np.partition(cosine_sim_array.flatten(), -2)[-2] \n",
    "        angle_in_degrees = math.acos(cos_sim)\n",
    "        most_similar20K = math.degrees(angle_in_degrees)\n",
    "        test_results.append(most_similar20K)"
   ]
  },
  {
   "cell_type": "code",
   "execution_count": 98,
   "metadata": {
    "collapsed": false
   },
   "outputs": [
    {
     "name": "stdout",
     "output_type": "stream",
     "text": [
      "80.2613656392\n"
     ]
    }
   ],
   "source": [
    "print reduce(lambda x, y: x + y, test_results) / len(test_results)"
   ]
  },
  {
   "cell_type": "code",
   "execution_count": 99,
   "metadata": {
    "collapsed": true
   },
   "outputs": [],
   "source": [
    "astrobio_20K_results = pd.DataFrame(np.array(test_results), columns = ['CosineSim20K'])"
   ]
  },
  {
   "cell_type": "markdown",
   "metadata": {},
   "source": [
    "### Combine and reshape all astrobiology results"
   ]
  },
  {
   "cell_type": "code",
   "execution_count": 115,
   "metadata": {
    "collapsed": true
   },
   "outputs": [],
   "source": [
    "astrobio_allresults = pd.concat([astrobio_1K_results, astrobio_5K_results, astrobio_10K_results, astrobio_20K_results], axis=1)"
   ]
  },
  {
   "cell_type": "code",
   "execution_count": 116,
   "metadata": {
    "collapsed": false
   },
   "outputs": [
    {
     "data": {
      "text/html": [
       "<div>\n",
       "<table border=\"1\" class=\"dataframe\">\n",
       "  <thead>\n",
       "    <tr style=\"text-align: right;\">\n",
       "      <th></th>\n",
       "      <th>CosineSim1K</th>\n",
       "      <th>CosineSim5K</th>\n",
       "      <th>CosineSim10K</th>\n",
       "      <th>CosineSim20K</th>\n",
       "    </tr>\n",
       "  </thead>\n",
       "  <tbody>\n",
       "    <tr>\n",
       "      <th>0</th>\n",
       "      <td>82.065391</td>\n",
       "      <td>90.000000</td>\n",
       "      <td>81.413288</td>\n",
       "      <td>81.282917</td>\n",
       "    </tr>\n",
       "    <tr>\n",
       "      <th>1</th>\n",
       "      <td>86.246886</td>\n",
       "      <td>78.560712</td>\n",
       "      <td>80.321400</td>\n",
       "      <td>84.109119</td>\n",
       "    </tr>\n",
       "    <tr>\n",
       "      <th>2</th>\n",
       "      <td>90.000000</td>\n",
       "      <td>90.000000</td>\n",
       "      <td>82.791548</td>\n",
       "      <td>75.219176</td>\n",
       "    </tr>\n",
       "    <tr>\n",
       "      <th>3</th>\n",
       "      <td>82.703347</td>\n",
       "      <td>77.230123</td>\n",
       "      <td>84.386767</td>\n",
       "      <td>82.972844</td>\n",
       "    </tr>\n",
       "    <tr>\n",
       "      <th>4</th>\n",
       "      <td>80.274675</td>\n",
       "      <td>80.235465</td>\n",
       "      <td>80.492254</td>\n",
       "      <td>90.000000</td>\n",
       "    </tr>\n",
       "  </tbody>\n",
       "</table>\n",
       "</div>"
      ],
      "text/plain": [
       "   CosineSim1K  CosineSim5K  CosineSim10K  CosineSim20K\n",
       "0    82.065391    90.000000     81.413288     81.282917\n",
       "1    86.246886    78.560712     80.321400     84.109119\n",
       "2    90.000000    90.000000     82.791548     75.219176\n",
       "3    82.703347    77.230123     84.386767     82.972844\n",
       "4    80.274675    80.235465     80.492254     90.000000"
      ]
     },
     "execution_count": 116,
     "metadata": {},
     "output_type": "execute_result"
    }
   ],
   "source": [
    "astrobio_allresults.head()"
   ]
  },
  {
   "cell_type": "code",
   "execution_count": 117,
   "metadata": {
    "collapsed": false
   },
   "outputs": [
    {
     "data": {
      "text/html": [
       "<div>\n",
       "<table border=\"1\" class=\"dataframe\">\n",
       "  <thead>\n",
       "    <tr style=\"text-align: right;\">\n",
       "      <th></th>\n",
       "      <th>TrainingDataSize</th>\n",
       "      <th>CosineSim</th>\n",
       "    </tr>\n",
       "  </thead>\n",
       "  <tbody>\n",
       "    <tr>\n",
       "      <th>0</th>\n",
       "      <td>CosineSim1K</td>\n",
       "      <td>82.065391</td>\n",
       "    </tr>\n",
       "    <tr>\n",
       "      <th>1</th>\n",
       "      <td>CosineSim1K</td>\n",
       "      <td>86.246886</td>\n",
       "    </tr>\n",
       "    <tr>\n",
       "      <th>2</th>\n",
       "      <td>CosineSim1K</td>\n",
       "      <td>90.000000</td>\n",
       "    </tr>\n",
       "    <tr>\n",
       "      <th>3</th>\n",
       "      <td>CosineSim1K</td>\n",
       "      <td>82.703347</td>\n",
       "    </tr>\n",
       "    <tr>\n",
       "      <th>4</th>\n",
       "      <td>CosineSim1K</td>\n",
       "      <td>80.274675</td>\n",
       "    </tr>\n",
       "  </tbody>\n",
       "</table>\n",
       "</div>"
      ],
      "text/plain": [
       "  TrainingDataSize  CosineSim\n",
       "0      CosineSim1K  82.065391\n",
       "1      CosineSim1K  86.246886\n",
       "2      CosineSim1K  90.000000\n",
       "3      CosineSim1K  82.703347\n",
       "4      CosineSim1K  80.274675"
      ]
     },
     "execution_count": 117,
     "metadata": {},
     "output_type": "execute_result"
    }
   ],
   "source": [
    "astrobio_allresults = pd.melt(astrobio_allresults)\n",
    "astrobio_allresults.columns = ['TrainingDataSize', 'CosineSim']\n",
    "astrobio_allresults.head()"
   ]
  },
  {
   "cell_type": "markdown",
   "metadata": {},
   "source": [
    "### Plot the results"
   ]
  },
  {
   "cell_type": "code",
   "execution_count": 119,
   "metadata": {
    "collapsed": false
   },
   "outputs": [
    {
     "data": {
      "image/png": "[encoded data removed]",
      "text/plain": [
       "<matplotlib.figure.Figure at 0x11b440590>"
      ]
     },
     "metadata": {},
     "output_type": "display_data"
    }
   ],
   "source": [
    "%matplotlib inline\n",
    "sns.set_style(\"whitegrid\")\n",
    "ax = sns.boxplot(x=\"TrainingDataSize\", y=\"CosineSim\", data=astrobio_allresults)"
   ]
  },
  {
   "cell_type": "markdown",
   "metadata": {},
   "source": [
    "### Calculate Average Number of Unique Words in Each Training Set\n",
    "#### Average Unique Words in Astrobiology 1,000 title sample"
   ]
  },
  {
   "cell_type": "code",
   "execution_count": 139,
   "metadata": {
    "collapsed": false
   },
   "outputs": [
    {
     "data": {
      "text/plain": [
       "13"
      ]
     },
     "execution_count": 139,
     "metadata": {},
     "output_type": "execute_result"
    }
   ],
   "source": [
    "unique1K = [len(line.split()) for line in astrobio_1K]\n",
    "avg_unique1K = (sum(unique1K) / len(unique1K))\n",
    "avg_unique1K"
   ]
  },
  {
   "cell_type": "code",
   "execution_count": 140,
   "metadata": {
    "collapsed": false
   },
   "outputs": [
    {
     "data": {
      "text/plain": [
       "12"
      ]
     },
     "execution_count": 140,
     "metadata": {},
     "output_type": "execute_result"
    }
   ],
   "source": [
    "unique5K = [len(line.split()) for line in astrobio_5K]\n",
    "avg_unique5K = (sum(unique5K) / len(unique5K))\n",
    "avg_unique5K"
   ]
  },
  {
   "cell_type": "code",
   "execution_count": 141,
   "metadata": {
    "collapsed": false
   },
   "outputs": [
    {
     "data": {
      "text/plain": [
       "12"
      ]
     },
     "execution_count": 141,
     "metadata": {},
     "output_type": "execute_result"
    }
   ],
   "source": [
    "unique10K = [len(line.split()) for line in astrobio_10K]\n",
    "avg_unique10K = (sum(unique10K) / len(unique10K))\n",
    "avg_unique10K"
   ]
  },
  {
   "cell_type": "code",
   "execution_count": 142,
   "metadata": {
    "collapsed": false
   },
   "outputs": [
    {
     "data": {
      "text/plain": [
       "12"
      ]
     },
     "execution_count": 142,
     "metadata": {},
     "output_type": "execute_result"
    }
   ],
   "source": [
    "unique20K = [len(line.split()) for line in astrobio_20K]\n",
    "avg_unique20K = (sum(unique20K) / len(unique20K))\n",
    "avg_unique20K"
   ]
  },
  {
   "cell_type": "markdown",
   "metadata": {},
   "source": [
    "### ASCII Analysis\n",
    "#### Presence of non-ASCII characters in 1,000 real training titles: "
   ]
  },
  {
   "cell_type": "code",
   "execution_count": 121,
   "metadata": {
    "collapsed": false
   },
   "outputs": [
    {
     "name": "stdout",
     "output_type": "stream",
     "text": [
      "Average count of non-ASCII characters per training title with non-ASCIIs: 3\n"
     ]
    }
   ],
   "source": [
    "# Find titles with non-ascii characters\n",
    "nonascii_lines1K = []\n",
    "\n",
    "for line in astrobio_1K:\n",
    "  a = re.sub('[\\x00-\\x7f]', '', line)\n",
    "  nonascii_lines1K.append(a)\n",
    "\n",
    "# Drop empty elements in the list (titles with no ascii characters)\n",
    "nonascii_notempty_1K = filter(None, nonascii_lines1K)\n",
    "count_nonascii_notempty_1K = len(nonascii_notempty_1K)\n",
    "\n",
    "# Calculate average number of non-ascii characters in a title when the title contains non-ascii characters\n",
    "actual_nonascii_1K = sum([len(i) for i in nonascii_notempty_1K])/count_nonascii_notempty_1K\n",
    "\n",
    "print \"Average count of non-ASCII characters per training title with non-ASCIIs:\", actual_nonascii_1K "
   ]
  },
  {
   "cell_type": "markdown",
   "metadata": {},
   "source": [
    "#### Presence of non-ASCII characters in sampled titles trained on 1,000 real titles:"
   ]
  },
  {
   "cell_type": "code",
   "execution_count": 122,
   "metadata": {
    "collapsed": false
   },
   "outputs": [
    {
     "name": "stdout",
     "output_type": "stream",
     "text": [
      "Average count of non-ASCII characters per training title with non-ASCIIs: 16\n"
     ]
    }
   ],
   "source": [
    "astrobio_1K_test = [line.rstrip('\\n') for line in open('astrobio_1000_sample.txt')]\n",
    "\n",
    "# Find titles with non-ascii characters\n",
    "nonascii_lines1K_test = []\n",
    "\n",
    "for line in astrobio_1K_test:\n",
    "  a = re.sub('[\\x00-\\x7f]', '', line)\n",
    "  nonascii_lines1K_test.append(a)\n",
    "\n",
    "# Drop empty elements in the list (titles with no ascii characters)\n",
    "nonascii_notempty_1K_test = filter(None, nonascii_lines1K_test)\n",
    "count_nonascii_notempty_1K_test = len(nonascii_notempty_1K_test)\n",
    "\n",
    "# Calculate average number of non-ascii characters in a title when the title contains non-ascii characters\n",
    "actual_nonascii_1K_test = sum([len(i) for i in nonascii_notempty_1K_test])/count_nonascii_notempty_1K_test\n",
    "\n",
    "print \"Average count of non-ASCII characters per training title with non-ASCIIs:\", actual_nonascii_1K_test "
   ]
  },
  {
   "cell_type": "code",
   "execution_count": null,
   "metadata": {
    "collapsed": true
   },
   "outputs": [],
   "source": []
  }
 ],
 "metadata": {
  "anaconda-cloud": {},
  "kernelspec": {
   "display_name": "Python [Root]",
   "language": "python",
   "name": "Python [Root]"
  },
  "language_info": {
   "codemirror_mode": {
    "name": "ipython",
    "version": 2
   },
   "file_extension": ".py",
   "mimetype": "text/x-python",
   "name": "python",
   "nbconvert_exporter": "python",
   "pygments_lexer": "ipython2",
   "version": "2.7.9"
  }
 },
 "nbformat": 4,
 "nbformat_minor": 0
}
