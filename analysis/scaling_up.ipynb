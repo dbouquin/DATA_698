{
 "cells": [
  {
   "cell_type": "markdown",
   "metadata": {},
   "source": [
    "### Scaling up the analysis:\n",
    "\n",
    "Looping through all sampled \"fake titles\" and doing cosine analysis"
   ]
  },
  {
   "cell_type": "code",
   "execution_count": 67,
   "metadata": {
    "collapsed": true
   },
   "outputs": [],
   "source": [
    "import math\n",
    "from sklearn.feature_extraction.text import TfidfVectorizer\n",
    "from sklearn.metrics.pairwise import cosine_similarity\n",
    "import re\n",
    "import pandas as pd\n",
    "import csv\n",
    "import os\n",
    "import random\n",
    "import numpy as np\n",
    "import seaborn as sns\n",
    "tfidf_vectorizer = TfidfVectorizer()"
   ]
  },
  {
   "cell_type": "code",
   "execution_count": 70,
   "metadata": {
    "collapsed": false
   },
   "outputs": [
    {
     "data": {
      "text/html": [
       "<div>\n",
       "<table border=\"1\" class=\"dataframe\">\n",
       "  <thead>\n",
       "    <tr style=\"text-align: right;\">\n",
       "      <th></th>\n",
       "      <th>Title</th>\n",
       "    </tr>\n",
       "  </thead>\n",
       "  <tbody>\n",
       "    <tr>\n",
       "      <th>0</th>\n",
       "      <td>\"Physical-chemical mechanisms of pattern forma...</td>\n",
       "    </tr>\n",
       "    <tr>\n",
       "      <th>1</th>\n",
       "      <td>\"Prabhakar-like fractional viscoelasticity\"</td>\n",
       "    </tr>\n",
       "    <tr>\n",
       "      <th>2</th>\n",
       "      <td>\"Mathematical interpretation of Brownian motor...</td>\n",
       "    </tr>\n",
       "    <tr>\n",
       "      <th>3</th>\n",
       "      <td>\"Ginzburg-Landau approximation for self-sustai...</td>\n",
       "    </tr>\n",
       "    <tr>\n",
       "      <th>4</th>\n",
       "      <td>\"Synaptic dynamics regulation in response to h...</td>\n",
       "    </tr>\n",
       "  </tbody>\n",
       "</table>\n",
       "</div>"
      ],
      "text/plain": [
       "                                               Title\n",
       "0  \"Physical-chemical mechanisms of pattern forma...\n",
       "1        \"Prabhakar-like fractional viscoelasticity\"\n",
       "2  \"Mathematical interpretation of Brownian motor...\n",
       "3  \"Ginzburg-Landau approximation for self-sustai...\n",
       "4  \"Synaptic dynamics regulation in response to h..."
      ]
     },
     "execution_count": 70,
     "metadata": {},
     "output_type": "execute_result"
    }
   ],
   "source": [
    "astrobio_1K = [line.rstrip('\\n') for line in open('astrobio_1000.txt')]\n",
    "df_astrobio_1K = pd.DataFrame(astrobio_1K)\n",
    "df_astrobio_1K.columns = ['Title']\n",
    "df_astrobio_1K.head()"
   ]
  },
  {
   "cell_type": "code",
   "execution_count": 71,
   "metadata": {
    "collapsed": false
   },
   "outputs": [
    {
     "name": "stdout",
     "output_type": "stream",
     "text": [
      "[82.06539062246614, 86.24688562767786, 90.0, 82.70334721657186, 80.27467505620912, 86.58880221545581, 75.95002375612066, 80.82226843151555, 84.6919819735666, 90.0]\n"
     ]
    }
   ],
   "source": [
    "test_results = []\n",
    "\n",
    "with open(\"astrobio_1000_sample.txt\", \"r\") as ins:\n",
    "    for line in ins:\n",
    "        df_astrobio_1K_test = df_astrobio_1K \n",
    "        df_astrobio_1K_test.loc[-1] = [line]\n",
    "        df_astrobio_1K_test.index = df_astrobio_1K_test.index + 1\n",
    "        df_astrobio_1K_test = df_astrobio_1K_test.sort_index()\n",
    "        title_tuple = tuple(list(df_astrobio_1K_test['Title']))\n",
    "        tfidf_matrix = tfidf_vectorizer.fit_transform(title_tuple)\n",
    "        cosine_sim_array = cosine_similarity(tfidf_matrix[0:1], tfidf_matrix)\n",
    "        cos_sim = np.partition(cosine_sim_array.flatten(), -2)[-2] \n",
    "        angle_in_degrees = math.acos(cos_sim)\n",
    "        most_similar1K = math.degrees(angle_in_degrees)\n",
    "        test_results.append(most_similar1K)\n",
    "\n",
    "print test_results[:10]"
   ]
  },
  {
   "cell_type": "code",
   "execution_count": 72,
   "metadata": {
    "collapsed": false
   },
   "outputs": [
    {
     "name": "stdout",
     "output_type": "stream",
     "text": [
      "79.6567113086\n"
     ]
    }
   ],
   "source": [
    "print reduce(lambda x, y: x + y, test_results) / len(test_results)"
   ]
  },
  {
   "cell_type": "code",
   "execution_count": 73,
   "metadata": {
    "collapsed": false
   },
   "outputs": [
    {
     "name": "stdout",
     "output_type": "stream",
     "text": [
      "   CosineSim1K\n",
      "0    82.065391\n",
      "1    86.246886\n",
      "2    90.000000\n",
      "3    82.703347\n",
      "4    80.274675\n"
     ]
    }
   ],
   "source": [
    "astrobio_1K_results = pd.DataFrame(np.array(test_results), columns = ['CosineSim1K'])\n",
    "print astrobio_1K_results.head()"
   ]
  },
  {
   "cell_type": "code",
   "execution_count": 74,
   "metadata": {
    "collapsed": false
   },
   "outputs": [
    {
     "data": {
      "image/png": "[encoded data removed]",
      "text/plain": [
       "<matplotlib.figure.Figure at 0x11ac2a110>"
      ]
     },
     "metadata": {},
     "output_type": "display_data"
    }
   ],
   "source": [
    "%matplotlib inline\n",
    "sns.set_style(\"whitegrid\")\n",
    "ax = sns.boxplot(x=astrobio_1K_results[\"CosineSim1K\"])"
   ]
  },
  {
   "cell_type": "code",
   "execution_count": null,
   "metadata": {
    "collapsed": true
   },
   "outputs": [],
   "source": []
  },
  {
   "cell_type": "code",
   "execution_count": null,
   "metadata": {
    "collapsed": true
   },
   "outputs": [],
   "source": []
  },
  {
   "cell_type": "code",
   "execution_count": null,
   "metadata": {
    "collapsed": true
   },
   "outputs": [],
   "source": []
  }
 ],
 "metadata": {
  "anaconda-cloud": {},
  "kernelspec": {
   "display_name": "Python [Root]",
   "language": "python",
   "name": "Python [Root]"
  },
  "language_info": {
   "codemirror_mode": {
    "name": "ipython",
    "version": 2
   },
   "file_extension": ".py",
   "mimetype": "text/x-python",
   "name": "python",
   "nbconvert_exporter": "python",
   "pygments_lexer": "ipython2",
   "version": "2.7.9"
  }
 },
 "nbformat": 4,
 "nbformat_minor": 0
}
