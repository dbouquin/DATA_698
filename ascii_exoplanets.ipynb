{
 "cells": [
  {
   "cell_type": "code",
   "execution_count": 3,
   "metadata": {
    "collapsed": true
   },
   "outputs": [],
   "source": [
    "import re\n",
    "import pandas as pd\n",
    "import numpy as np\n",
    "import csv\n",
    "from __future__ import division"
   ]
  },
  {
   "cell_type": "markdown",
   "metadata": {},
   "source": [
    "## Find average number of non-ascii characters in training set. Compare this to the number of non-ascii characters in similar size sample of ANN-generated titles"
   ]
  },
  {
   "cell_type": "markdown",
   "metadata": {},
   "source": [
    "#### 1K training set"
   ]
  },
  {
   "cell_type": "code",
   "execution_count": 11,
   "metadata": {
    "collapsed": false
   },
   "outputs": [
    {
     "name": "stdout",
     "output_type": "stream",
     "text": [
      "Title Type   | Average count of non-ascii characters per title\n",
      "sample titles| 35.5847457627\n",
      "actual titles| 2.98461538462\n"
     ]
    }
   ],
   "source": [
    "lines1K = [line.rstrip('\\n') for line in open('exoplanet_1000.txt')]\n",
    "\n",
    "nonascii_lines1K = []\n",
    "for line in lines1K:\n",
    "  a = re.sub('[\\x00-\\x7f]', '', line)\n",
    "  nonascii_lines1K.append(a)\n",
    "\n",
    "# drop empty elements (no ascii characters)\n",
    "nonascii_notempty1K = filter(None, nonascii_lines1K)\n",
    "count_nonascii_notempty1K = len(nonascii_notempty1K)\n",
    "\n",
    "actual_nonascii_1K = sum([len(i) for i in nonascii_notempty1K])/count_nonascii_notempty1K\n",
    "\n",
    "# samples\n",
    "sample_lines1K = [line.rstrip('\\n') for line in open('exoplanet_1000_sample.txt')]\n",
    "\n",
    "nonascii_lines1K = []\n",
    "for line in sample_lines1K:\n",
    "  a = re.sub('[\\x00-\\x7f]', '', line)\n",
    "  nonascii_lines1K.append(a)\n",
    "\n",
    "# drop empty elements (no ascii characters)\n",
    "nonascii_notempty1K = filter(None, nonascii_lines1K)\n",
    "count_nonascii_notempty1K = len(nonascii_notempty1K) \n",
    "\n",
    "sample_nonascii_1K = sum([len(i) for i in nonascii_notempty1K])/count_nonascii_notempty1K\n",
    "\n",
    "print \"Title Type   | Average count of non-ascii characters per title\"\n",
    "print \"sample titles|\", sample_nonascii_1K\n",
    "print \"actual titles|\", actual_nonascii_1K "
   ]
  },
  {
   "cell_type": "markdown",
   "metadata": {},
   "source": [
    "#### 5K Training Set"
   ]
  },
  {
   "cell_type": "code",
   "execution_count": 16,
   "metadata": {
    "collapsed": false
   },
   "outputs": [
    {
     "name": "stdout",
     "output_type": "stream",
     "text": [
      "Title Type   | Average count of non-ascii characters per title\n",
      "sample titles| 38.5071308725\n",
      "actual titles| 2.61133603239\n"
     ]
    }
   ],
   "source": [
    "lines5K = [line.rstrip('\\n') for line in open('exoplanet_5000.txt')]\n",
    "\n",
    "nonascii_lines5K = []\n",
    "for line in lines5K:\n",
    "  a = re.sub('[\\x00-\\x7f]', '', line)\n",
    "  nonascii_lines5K.append(a)\n",
    "\n",
    "# drop empty elements (no ascii characters)\n",
    "nonascii_notempty5K = filter(None, nonascii_lines5K)\n",
    "count_nonascii_notempty5K = len(nonascii_notempty5K)\n",
    "\n",
    "actual_nonascii_5K = sum([len(i) for i in nonascii_notempty5K])/count_nonascii_notempty5K\n",
    "\n",
    "# samples\n",
    "sample_lines5K = [line.rstrip('\\n') for line in open('exoplanet_5000_sample.txt')]\n",
    "\n",
    "nonascii_lines5K = []\n",
    "for line in sample_lines5K:\n",
    "  a = re.sub('[\\x00-\\x7f]', '', line)\n",
    "  nonascii_lines5K.append(a)\n",
    "\n",
    "# drop empty elements (no ascii characters)\n",
    "nonascii_notempty5K = filter(None, nonascii_lines5K)\n",
    "count_nonascii_notempty5K = len(nonascii_notempty5K) \n",
    "\n",
    "sample_nonascii_5K = sum([len(i) for i in nonascii_notempty5K])/count_nonascii_notempty5K\n",
    "\n",
    "print \"Title Type   | Average count of non-ascii characters per title\"\n",
    "print \"sample titles|\", sample_nonascii_5K\n",
    "print \"actual titles|\", actual_nonascii_5K "
   ]
  },
  {
   "cell_type": "code",
   "execution_count": null,
   "metadata": {
    "collapsed": true
   },
   "outputs": [],
   "source": []
  }
 ],
 "metadata": {
  "anaconda-cloud": {},
  "kernelspec": {
   "display_name": "Python [Root]",
   "language": "python",
   "name": "Python [Root]"
  },
  "language_info": {
   "codemirror_mode": {
    "name": "ipython",
    "version": 2
   },
   "file_extension": ".py",
   "mimetype": "text/x-python",
   "name": "python",
   "nbconvert_exporter": "python",
   "pygments_lexer": "ipython2",
   "version": "2.7.9"
  }
 },
 "nbformat": 4,
 "nbformat_minor": 0
}
