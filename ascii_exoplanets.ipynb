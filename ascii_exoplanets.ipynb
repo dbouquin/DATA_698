{
 "cells": [
  {
   "cell_type": "code",
   "execution_count": 18,
   "metadata": {
    "collapsed": true
   },
   "outputs": [],
   "source": [
    "import re\n",
    "import pandas as pd\n",
    "import numpy as np\n",
    "import csv\n",
    "import seaborn as sns\n",
    "from __future__ import division"
   ]
  },
  {
   "cell_type": "markdown",
   "metadata": {},
   "source": [
    "## Find average number of non-ascii characters in training set. Compare this to the number of non-ascii characters in similar size sample of ANN-generated titles"
   ]
  },
  {
   "cell_type": "markdown",
   "metadata": {},
   "source": [
    "#### 1K training set"
   ]
  },
  {
   "cell_type": "code",
   "execution_count": 25,
   "metadata": {
    "collapsed": false
   },
   "outputs": [
    {
     "name": "stdout",
     "output_type": "stream",
     "text": [
      "Title Type   | Average count of non-ascii characters per title\n",
      "--------------------------------------------------------------\n",
      "sample titles| 35.5847457627\n",
      "actual titles| 2.98461538462\n"
     ]
    }
   ],
   "source": [
    "lines1K = [line.rstrip('\\n') for line in open('exoplanet_1000.txt')]\n",
    "\n",
    "nonascii_lines1K = []\n",
    "for line in lines1K:\n",
    "  a = re.sub('[\\x00-\\x7f]', '', line)\n",
    "  nonascii_lines1K.append(a)\n",
    "\n",
    "# drop empty elements (no ascii characters)\n",
    "nonascii_notempty1K = filter(None, nonascii_lines1K)\n",
    "count_nonascii_notempty1K = len(nonascii_notempty1K)\n",
    "\n",
    "actual_nonascii_1K = sum([len(i) for i in nonascii_notempty1K])/count_nonascii_notempty1K\n",
    "\n",
    "# samples\n",
    "sample_lines1K = [line.rstrip('\\n') for line in open('exoplanet_1000_sample.txt')]\n",
    "\n",
    "nonascii_lines1K = []\n",
    "for line in sample_lines1K:\n",
    "  a = re.sub('[\\x00-\\x7f]', '', line)\n",
    "  nonascii_lines1K.append(a)\n",
    "\n",
    "# drop empty elements (no ascii characters)\n",
    "nonascii_notempty1K = filter(None, nonascii_lines1K)\n",
    "count_nonascii_notempty1K = len(nonascii_notempty1K) \n",
    "\n",
    "sample_nonascii_1K = sum([len(i) for i in nonascii_notempty1K])/count_nonascii_notempty1K\n",
    "\n",
    "print \"Title Type   | Average count of non-ascii characters per title\"\n",
    "print \"--------------------------------------------------------------\"\n",
    "print \"sample titles|\", sample_nonascii_1K\n",
    "print \"actual titles|\", actual_nonascii_1K "
   ]
  },
  {
   "cell_type": "markdown",
   "metadata": {},
   "source": [
    "#### 5K Training Set"
   ]
  },
  {
   "cell_type": "code",
   "execution_count": 26,
   "metadata": {
    "collapsed": false
   },
   "outputs": [
    {
     "name": "stdout",
     "output_type": "stream",
     "text": [
      "Title Type   | Average count of non-ascii characters per title\n",
      "--------------------------------------------------------------\n",
      "sample titles| 38.5071308725\n",
      "actual titles| 2.61133603239\n"
     ]
    }
   ],
   "source": [
    "lines5K = [line.rstrip('\\n') for line in open('exoplanet_5000.txt')]\n",
    "\n",
    "nonascii_lines5K = []\n",
    "for line in lines5K:\n",
    "  a = re.sub('[\\x00-\\x7f]', '', line)\n",
    "  nonascii_lines5K.append(a)\n",
    "\n",
    "# drop empty elements (no ascii characters)\n",
    "nonascii_notempty5K = filter(None, nonascii_lines5K)\n",
    "count_nonascii_notempty5K = len(nonascii_notempty5K)\n",
    "\n",
    "actual_nonascii_5K = sum([len(i) for i in nonascii_notempty5K])/count_nonascii_notempty5K\n",
    "\n",
    "# samples\n",
    "sample_lines5K = [line.rstrip('\\n') for line in open('exoplanet_5000_sample.txt')]\n",
    "\n",
    "nonascii_lines5K = []\n",
    "for line in sample_lines5K:\n",
    "  a = re.sub('[\\x00-\\x7f]', '', line)\n",
    "  nonascii_lines5K.append(a)\n",
    "\n",
    "# drop empty elements (no ascii characters)\n",
    "nonascii_notempty5K = filter(None, nonascii_lines5K)\n",
    "count_nonascii_notempty5K = len(nonascii_notempty5K) \n",
    "\n",
    "sample_nonascii_5K = sum([len(i) for i in nonascii_notempty5K])/count_nonascii_notempty5K\n",
    "\n",
    "print \"Title Type   | Average count of non-ascii characters per title\"\n",
    "print \"--------------------------------------------------------------\"\n",
    "print \"sample titles|\", sample_nonascii_5K\n",
    "print \"actual titles|\", actual_nonascii_5K "
   ]
  },
  {
   "cell_type": "markdown",
   "metadata": {},
   "source": [
    "#### 10K Training Set"
   ]
  },
  {
   "cell_type": "code",
   "execution_count": 29,
   "metadata": {
    "collapsed": false
   },
   "outputs": [
    {
     "name": "stdout",
     "output_type": "stream",
     "text": [
      "Title Type   | Average count of non-ascii characters per title\n",
      "--------------------------------------------------------------\n",
      "sample titles| 5.05525263541\n",
      "actual titles| 2.73479318735\n"
     ]
    }
   ],
   "source": [
    "lines10K = [line.rstrip('\\n') for line in open('exoplanet_10000.txt')]\n",
    "\n",
    "nonascii_lines10K = []\n",
    "for line in lines10K:\n",
    "  a = re.sub('[\\x00-\\x7f]', '', line)\n",
    "  nonascii_lines10K.append(a)\n",
    "\n",
    "# drop empty elements (no ascii characters)\n",
    "nonascii_notempty10K = filter(None, nonascii_lines10K)\n",
    "count_nonascii_notempty5K = len(nonascii_notempty10K)\n",
    "\n",
    "actual_nonascii_10K = sum([len(i) for i in nonascii_notempty10K])/count_nonascii_notempty5K\n",
    "\n",
    "# samples\n",
    "sample_lines10K = [line.rstrip('\\n') for line in open('exoplanet_10000_sample.txt')]\n",
    "\n",
    "nonascii_lines10K = []\n",
    "for line in sample_lines10K:\n",
    "  a = re.sub('[\\x00-\\x7f]', '', line)\n",
    "  nonascii_lines10K.append(a)\n",
    "\n",
    "# drop empty elements (no ascii characters)\n",
    "nonascii_notempty10K = filter(None, nonascii_lines10K)\n",
    "count_nonascii_notempty10K = len(nonascii_notempty10K) \n",
    "\n",
    "sample_nonascii_10K = sum([len(i) for i in nonascii_notempty10K])/count_nonascii_notempty10K\n",
    "\n",
    "print \"Title Type   | Average count of non-ascii characters per title\"\n",
    "print \"--------------------------------------------------------------\"\n",
    "print \"sample titles|\", sample_nonascii_10K\n",
    "print \"actual titles|\", actual_nonascii_10K "
   ]
  },
  {
   "cell_type": "code",
   "execution_count": 30,
   "metadata": {
    "collapsed": false
   },
   "outputs": [
    {
     "data": {
      "text/html": [
       "<div>\n",
       "<table border=\"1\" class=\"dataframe\">\n",
       "  <thead>\n",
       "    <tr style=\"text-align: right;\">\n",
       "      <th></th>\n",
       "      <th>Avg_NonAscii</th>\n",
       "      <th>Data_Size</th>\n",
       "      <th>Title_Type</th>\n",
       "    </tr>\n",
       "  </thead>\n",
       "  <tbody>\n",
       "    <tr>\n",
       "      <th>0</th>\n",
       "      <td>35.584746</td>\n",
       "      <td>1K</td>\n",
       "      <td>Sample</td>\n",
       "    </tr>\n",
       "    <tr>\n",
       "      <th>1</th>\n",
       "      <td>2.984615</td>\n",
       "      <td>1K</td>\n",
       "      <td>Actual</td>\n",
       "    </tr>\n",
       "    <tr>\n",
       "      <th>2</th>\n",
       "      <td>38.507131</td>\n",
       "      <td>5K</td>\n",
       "      <td>Sample</td>\n",
       "    </tr>\n",
       "    <tr>\n",
       "      <th>3</th>\n",
       "      <td>2.611336</td>\n",
       "      <td>5K</td>\n",
       "      <td>Actual</td>\n",
       "    </tr>\n",
       "    <tr>\n",
       "      <th>4</th>\n",
       "      <td>5.055253</td>\n",
       "      <td>10K</td>\n",
       "      <td>Sample</td>\n",
       "    </tr>\n",
       "    <tr>\n",
       "      <th>5</th>\n",
       "      <td>2.734793</td>\n",
       "      <td>10K</td>\n",
       "      <td>Actual</td>\n",
       "    </tr>\n",
       "  </tbody>\n",
       "</table>\n",
       "</div>"
      ],
      "text/plain": [
       "   Avg_NonAscii Data_Size Title_Type\n",
       "0     35.584746        1K     Sample\n",
       "1      2.984615        1K     Actual\n",
       "2     38.507131        5K     Sample\n",
       "3      2.611336        5K     Actual\n",
       "4      5.055253       10K     Sample\n",
       "5      2.734793       10K     Actual"
      ]
     },
     "execution_count": 30,
     "metadata": {},
     "output_type": "execute_result"
    }
   ],
   "source": [
    "df = pd.DataFrame({'Title_Type': {0: 'Sample', 1: 'Actual', 2: 'Sample', 3: 'Actual', 4: 'Sample', 5: 'Actual'},\n",
    "                   'Data_Size': {0: '1K', 1: '1K', 2: '5K', 3: '5K', 4: '10K', 5:'10K'},\n",
    "                   'Avg_NonAscii': {0: 35.5847457627, 1: 2.98461538462, 2: 38.5071308725, 3: 2.61133603239, 4: 5.05525263541, 5: 2.73479318735}})\n",
    "df"
   ]
  },
  {
   "cell_type": "code",
   "execution_count": 43,
   "metadata": {
    "collapsed": false
   },
   "outputs": [
    {
     "data": {
      "text/plain": [
       "<matplotlib.text.Text at 0x11babe990>"
      ]
     },
     "execution_count": 43,
     "metadata": {},
     "output_type": "execute_result"
    },
    {
     "data": {
      "image/png": "[encoded data removed]",
      "text/plain": [
       "<matplotlib.figure.Figure at 0x11b732650>"
      ]
     },
     "metadata": {},
     "output_type": "display_data"
    }
   ],
   "source": [
    "%matplotlib inline\n",
    "g = sns.factorplot(x=\"Data_Size\", y=\"Avg_NonAscii\", hue=\"Title_Type\", data=df,\n",
    "                   size=6, kind=\"bar\", palette=\"muted\")\n",
    "g.despine(left=True)\n",
    "g.set_ylabels(\"Average Count of Non-ASCII Characters per Title\")\n",
    "g.set_xlabels(\"Size of Training Dataset\")\n",
    "sns.plt.title(\"Prevenlance of LSTM Generated ASCII Characters in Exoplanet Titles\")"
   ]
  },
  {
   "cell_type": "code",
   "execution_count": null,
   "metadata": {
    "collapsed": true
   },
   "outputs": [],
   "source": []
  }
 ],
 "metadata": {
  "anaconda-cloud": {},
  "kernelspec": {
   "display_name": "Python [Root]",
   "language": "python",
   "name": "Python [Root]"
  },
  "language_info": {
   "codemirror_mode": {
    "name": "ipython",
    "version": 2
   },
   "file_extension": ".py",
   "mimetype": "text/x-python",
   "name": "python",
   "nbconvert_exporter": "python",
   "pygments_lexer": "ipython2",
   "version": "2.7.9"
  }
 },
 "nbformat": 4,
 "nbformat_minor": 0
}
