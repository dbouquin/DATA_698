{
 "cells": [
  {
   "cell_type": "code",
   "execution_count": 2,
   "metadata": {
    "collapsed": true
   },
   "outputs": [],
   "source": [
    "# created new environment for tensorflow sessions\n",
    "import tensorflow as tf # successful import!"
   ]
  },
  {
   "cell_type": "markdown",
   "metadata": {},
   "source": [
    "#### Tutorial: https://www.tensorflow.org/get_started/get_started"
   ]
  },
  {
   "cell_type": "code",
   "execution_count": 3,
   "metadata": {
    "collapsed": false
   },
   "outputs": [
    {
     "name": "stdout",
     "output_type": "stream",
     "text": [
      "(<tf.Tensor 'Const:0' shape=() dtype=float32>, <tf.Tensor 'Const_1:0' shape=() dtype=float32>)\n"
     ]
    }
   ],
   "source": [
    "# Simple computational graph\n",
    "# Each node takes zero or more tensors as inputs and produces a tensor as an output\n",
    "# One type of node is a constant - \n",
    "# all TensorFlow constants take no input and output a value it stores internally. \n",
    "# We can create two floating point Tensors 'node1' and 'node2' as follows:\n",
    "\n",
    "node1 = tf.constant(3.0, dtype=tf.float32)\n",
    "node2 = tf.constant(4.0) # also tf.float32 implicitly\n",
    "print(node1, node2)"
   ]
  },
  {
   "cell_type": "code",
   "execution_count": 4,
   "metadata": {
    "collapsed": false
   },
   "outputs": [
    {
     "name": "stdout",
     "output_type": "stream",
     "text": [
      "[3.0, 4.0]\n"
     ]
    }
   ],
   "source": [
    "# Notice that printing the nodes does not output the values 3.0 and 4.0 as you might expect. \n",
    "# Instead, they are nodes that, when evaluated, would produce 3.0 and 4.0, respectively. \n",
    "# To actually evaluate the nodes, we must run the computational graph within a session. \n",
    "# A session encapsulates the control and state of the TensorFlow runtime.\n",
    "# The following code creates a Session object and then invokes its run method to run enough \n",
    "# of the computational graph to evaluate node1 and node2. \n",
    "# By running the computational graph in a session as follows:\n",
    "\n",
    "sess = tf.Session()\n",
    "print(sess.run([node1, node2]))"
   ]
  },
  {
   "cell_type": "code",
   "execution_count": 5,
   "metadata": {
    "collapsed": false
   },
   "outputs": [
    {
     "name": "stdout",
     "output_type": "stream",
     "text": [
      "('node3:', <tf.Tensor 'Add:0' shape=() dtype=float32>)\n",
      "('sess.run(node3):', 7.0)\n"
     ]
    }
   ],
   "source": [
    "# Combining Tensor nodes with operations (Operations are also nodes). \n",
    "# For example, we can add our two constant nodes and produce a new graph as follows:\n",
    "\n",
    "node3 = tf.add(node1, node2)\n",
    "print(\"node3:\", node3)\n",
    "print(\"sess.run(node3):\", sess.run(node3))"
   ]
  },
  {
   "cell_type": "code",
   "execution_count": 6,
   "metadata": {
    "collapsed": true
   },
   "outputs": [],
   "source": [
    "# A graph can be parameterized to accept external inputs, known as placeholders. \n",
    "# A placeholder is a promise to provide a value later.\n",
    "\n",
    "a = tf.placeholder(tf.float32)\n",
    "b = tf.placeholder(tf.float32)\n",
    "adder_node = a + b  # + provides a shortcut for tf.add(a, b)"
   ]
  },
  {
   "cell_type": "code",
   "execution_count": 7,
   "metadata": {
    "collapsed": false
   },
   "outputs": [
    {
     "name": "stdout",
     "output_type": "stream",
     "text": [
      "7.5\n",
      "[ 3.  7.]\n"
     ]
    }
   ],
   "source": [
    "# We can evaluate this graph with multiple inputs by using the feed_dict argument \n",
    "# to the run method to feed concrete values to the placeholders:\n",
    "\n",
    "print(sess.run(adder_node, {a: 3, b: 4.5}))\n",
    "print(sess.run(adder_node, {a: [1, 3], b: [2, 4]}))"
   ]
  },
  {
   "cell_type": "code",
   "execution_count": 8,
   "metadata": {
    "collapsed": false
   },
   "outputs": [
    {
     "name": "stdout",
     "output_type": "stream",
     "text": [
      "22.5\n"
     ]
    }
   ],
   "source": [
    "# try adding another node\n",
    "\n",
    "add_and_triple = adder_node * 3.\n",
    "print(sess.run(add_and_triple, {a: 3, b: 4.5}))"
   ]
  },
  {
   "cell_type": "code",
   "execution_count": 10,
   "metadata": {
    "collapsed": true
   },
   "outputs": [],
   "source": [
    "# In machine learning we will typically want a model that can take arbitrary inputs, \n",
    "# such as the one above. \n",
    "# To make the model trainable, we need to be able to modify the graph to get new outputs \n",
    "# with the same input. \n",
    "#Variables allow us to add trainable parameters to a graph. \n",
    "# They are constructed with a type and initial value:\n",
    "\n",
    "W = tf.Variable([.3], dtype=tf.float32)\n",
    "b = tf.Variable([-.3], dtype=tf.float32)\n",
    "x = tf.placeholder(tf.float32)\n",
    "linear_model = W * x + b"
   ]
  },
  {
   "cell_type": "code",
   "execution_count": 11,
   "metadata": {
    "collapsed": true
   },
   "outputs": [],
   "source": [
    "# Constants are initialized when you call tf.constant, and their value can never change. \n",
    "# By contrast, variables are not initialized when you call tf.Variable. \n",
    "# To initialize all the variables in a TensorFlow program, you must explicitly call a \n",
    "# special operation as follows:\n",
    "\n",
    "init = tf.global_variables_initializer()\n",
    "sess.run(init) \n",
    "\n",
    "# init is a handle to the TensorFlow sub-graph that initializes all the global variables. \n",
    "# Until we call sess.run, the variables are uninitialized."
   ]
  },
  {
   "cell_type": "code",
   "execution_count": 12,
   "metadata": {
    "collapsed": false
   },
   "outputs": [
    {
     "name": "stdout",
     "output_type": "stream",
     "text": [
      "[ 0.          0.30000001  0.60000002  0.90000004]\n"
     ]
    }
   ],
   "source": [
    "# Since x is a placeholder we can evaluate linear_model for several values of x simultaneously: \n",
    "\n",
    "print(sess.run(linear_model, {x: [1, 2, 3, 4]}))"
   ]
  },
  {
   "cell_type": "code",
   "execution_count": 14,
   "metadata": {
    "collapsed": false
   },
   "outputs": [
    {
     "name": "stdout",
     "output_type": "stream",
     "text": [
      "23.66\n"
     ]
    }
   ],
   "source": [
    "# We've created a model, but we don't know how good it is yet. \n",
    "# To evaluate the model on training data we need a y placeholder to provide the desired values\n",
    "# and we need to write a loss function.\n",
    "# A loss function measures how far apart the current model is from the provided data. \n",
    "# We'll use a standard loss model for linear regression, which sums the squares of the \n",
    "# deltas between the current model and the provided data. \n",
    "# linear_model - y creates a vector where each element is the corresponding example's \n",
    "# error delta. \n",
    "# We call tf.square to square that error, then we sum all the squared errors to create \n",
    "# a single scalar that abstracts the error of all examples using tf.reduce_sum:\n",
    "\n",
    "y = tf.placeholder(tf.float32)\n",
    "squared_deltas = tf.square(linear_model - y)\n",
    "loss = tf.reduce_sum(squared_deltas)\n",
    "print(sess.run(loss, {x: [1, 2, 3, 4], y: [0, -1, -2, -3]})) # this is the loss value"
   ]
  },
  {
   "cell_type": "code",
   "execution_count": 15,
   "metadata": {
    "collapsed": false
   },
   "outputs": [
    {
     "name": "stdout",
     "output_type": "stream",
     "text": [
      "0.0\n"
     ]
    }
   ],
   "source": [
    "# We could improve this manually by reassigning the values of W and b to the perfect values \n",
    "# of -1 and 1. \n",
    "# A variable is initialized to the value provided to tf.Variable but can be changed using \n",
    "# operations like tf.assign. \n",
    "# For example, W=-1 and b=1 are the optimal parameters for our model. \n",
    "# We can change W and b accordingly:\n",
    "\n",
    "fixW = tf.assign(W, [-1.])\n",
    "fixb = tf.assign(b, [1.])\n",
    "sess.run([fixW, fixb])\n",
    "print(sess.run(loss, {x: [1, 2, 3, 4], y: [0, -1, -2, -3]})) # now loss value is 0\n",
    "\n",
    "# We guessed the \"perfect\" values of W and b, but the whole point of machine learning \n",
    "# is to find the correct model parameters automatically. \n",
    "# We will show how to accomplish this in the next section."
   ]
  },
  {
   "cell_type": "markdown",
   "metadata": {},
   "source": [
    "#### tf.train API"
   ]
  },
  {
   "cell_type": "code",
   "execution_count": null,
   "metadata": {
    "collapsed": true
   },
   "outputs": [],
   "source": []
  }
 ],
 "metadata": {
  "kernelspec": {
   "display_name": "Python [tensorflow-sessions]",
   "language": "python",
   "name": "Python [tensorflow-sessions]"
  },
  "language_info": {
   "codemirror_mode": {
    "name": "ipython",
    "version": 2
   },
   "file_extension": ".py",
   "mimetype": "text/x-python",
   "name": "python",
   "nbconvert_exporter": "python",
   "pygments_lexer": "ipython2",
   "version": "2.7.13"
  }
 },
 "nbformat": 4,
 "nbformat_minor": 0
}
