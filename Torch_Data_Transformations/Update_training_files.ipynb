{
 "cells": [
  {
   "cell_type": "markdown",
   "metadata": {},
   "source": [
    "### Adjust white space\n",
    "#### Astrobiology"
   ]
  },
  {
   "cell_type": "code",
   "execution_count": 18,
   "metadata": {
    "collapsed": false
   },
   "outputs": [],
   "source": [
    "rf = open('/Users/dainabouquin/Documents/CUNYsps_MS/DATA_698/Final_Datasets/astrobiology/astrobio1000/astrobio_1000.txt')\n",
    "wf = open('/Users/dainabouquin/Documents/CUNYsps_MS/DATA_698/Final_Datasets/astrobiology/astrobio1000/astrobio_1000_clean.txt',\"w\")\n",
    "for line in rf:\n",
    "    newline = line.rstrip('\\r\\n')\n",
    "    wf.write(newline)\n",
    "    wf.write('\\n')  # remove to leave out line breaks\n",
    "rf.close()\n",
    "wf.close()"
   ]
  },
  {
   "cell_type": "code",
   "execution_count": 19,
   "metadata": {
    "collapsed": true
   },
   "outputs": [],
   "source": [
    "rf = open('/Users/dainabouquin/Documents/CUNYsps_MS/DATA_698/Final_Datasets/astrobiology/astrobio_5000/astrobio_5000.txt')\n",
    "wf = open('/Users/dainabouquin/Documents/CUNYsps_MS/DATA_698/Final_Datasets/astrobiology/astrobio_5000/astrobio_5000_clean.txt',\"w\")\n",
    "for line in rf:\n",
    "    newline = line.rstrip('\\r\\n')\n",
    "    wf.write(newline)\n",
    "    wf.write('\\n')  # remove to leave out line breaks\n",
    "rf.close()\n",
    "wf.close()"
   ]
  },
  {
   "cell_type": "code",
   "execution_count": 20,
   "metadata": {
    "collapsed": true
   },
   "outputs": [],
   "source": [
    "rf = open('/Users/dainabouquin/Documents/CUNYsps_MS/DATA_698/Final_Datasets/astrobiology/astrobio_10000/astrobio_10000.txt')\n",
    "wf = open('/Users/dainabouquin/Documents/CUNYsps_MS/DATA_698/Final_Datasets/astrobiology/astrobio_10000/astrobio_10000_clean.txt',\"w\")\n",
    "for line in rf:\n",
    "    newline = line.rstrip('\\r\\n')\n",
    "    wf.write(newline)\n",
    "    wf.write('\\n')  # remove to leave out line breaks\n",
    "rf.close()\n",
    "wf.close()"
   ]
  },
  {
   "cell_type": "code",
   "execution_count": 21,
   "metadata": {
    "collapsed": true
   },
   "outputs": [],
   "source": [
    "rf = open('/Users/dainabouquin/Documents/CUNYsps_MS/DATA_698/Final_Datasets/astrobiology/astrobio_20000/astrobio_20000.txt')\n",
    "wf = open('/Users/dainabouquin/Documents/CUNYsps_MS/DATA_698/Final_Datasets/astrobiology/astrobio_20000/astrobio_20000_clean.txt',\"w\")\n",
    "for line in rf:\n",
    "    newline = line.rstrip('\\r\\n')\n",
    "    wf.write(newline)\n",
    "    wf.write('\\n')  # remove to leave out line breaks\n",
    "rf.close()\n",
    "wf.close()"
   ]
  },
  {
   "cell_type": "markdown",
   "metadata": {},
   "source": [
    "#### Black Holes"
   ]
  },
  {
   "cell_type": "code",
   "execution_count": 23,
   "metadata": {
    "collapsed": true
   },
   "outputs": [],
   "source": [
    "rf = open('/Users/dainabouquin/Documents/CUNYsps_MS/DATA_698/Final_Datasets/blackholes/blackhole_1000/blackhole_1000.txt')\n",
    "wf = open('/Users/dainabouquin/Documents/CUNYsps_MS/DATA_698/Final_Datasets/blackholes/blackhole_1000/blackhole_1000_clean.txt',\"w\")\n",
    "for line in rf:\n",
    "    newline = line.rstrip('\\r\\n')\n",
    "    wf.write(newline)\n",
    "    wf.write('\\n')  # remove to leave out line breaks\n",
    "rf.close()\n",
    "wf.close()"
   ]
  },
  {
   "cell_type": "code",
   "execution_count": 24,
   "metadata": {
    "collapsed": true
   },
   "outputs": [],
   "source": [
    "rf = open('/Users/dainabouquin/Documents/CUNYsps_MS/DATA_698/Final_Datasets/blackholes/blackhole_5000/blackhole_5000.txt')\n",
    "wf = open('/Users/dainabouquin/Documents/CUNYsps_MS/DATA_698/Final_Datasets/blackholes/blackhole_5000/blackhole_5000_clean.txt',\"w\")\n",
    "for line in rf:\n",
    "    newline = line.rstrip('\\r\\n')\n",
    "    wf.write(newline)\n",
    "    wf.write('\\n')  # remove to leave out line breaks\n",
    "rf.close()\n",
    "wf.close()"
   ]
  },
  {
   "cell_type": "code",
   "execution_count": 25,
   "metadata": {
    "collapsed": true
   },
   "outputs": [],
   "source": [
    "rf = open('/Users/dainabouquin/Documents/CUNYsps_MS/DATA_698/Final_Datasets/blackholes/blackhole_10000/blackhole_10000.txt')\n",
    "wf = open('/Users/dainabouquin/Documents/CUNYsps_MS/DATA_698/Final_Datasets/blackholes/blackhole_10000/blackhole_10000_clean.txt',\"w\")\n",
    "for line in rf:\n",
    "    newline = line.rstrip('\\r\\n')\n",
    "    wf.write(newline)\n",
    "    wf.write('\\n')  # remove to leave out line breaks\n",
    "rf.close()\n",
    "wf.close()"
   ]
  },
  {
   "cell_type": "code",
   "execution_count": 26,
   "metadata": {
    "collapsed": true
   },
   "outputs": [],
   "source": [
    "rf = open('/Users/dainabouquin/Documents/CUNYsps_MS/DATA_698/Final_Datasets/blackholes/blackhole_20000/blackhole_20000.txt')\n",
    "wf = open('/Users/dainabouquin/Documents/CUNYsps_MS/DATA_698/Final_Datasets/blackholes/blackhole_20000/blackhole_20000_clean.txt',\"w\")\n",
    "for line in rf:\n",
    "    newline = line.rstrip('\\r\\n')\n",
    "    wf.write(newline)\n",
    "    wf.write('\\n')  # remove to leave out line breaks\n",
    "rf.close()\n",
    "wf.close()"
   ]
  },
  {
   "cell_type": "markdown",
   "metadata": {},
   "source": [
    "### Exoplanets"
   ]
  },
  {
   "cell_type": "code",
   "execution_count": 27,
   "metadata": {
    "collapsed": true
   },
   "outputs": [],
   "source": [
    "rf = open('/Users/dainabouquin/Documents/CUNYsps_MS/DATA_698/Final_Datasets/exoplanets/exoplanet_1000/exoplanet_1000.txt')\n",
    "wf = open('/Users/dainabouquin/Documents/CUNYsps_MS/DATA_698/Final_Datasets/exoplanets/exoplanet_1000/exoplanet_1000_clean.txt',\"w\")\n",
    "for line in rf:\n",
    "    newline = line.rstrip('\\r\\n')\n",
    "    wf.write(newline)\n",
    "    wf.write('\\n')  # remove to leave out line breaks\n",
    "rf.close()\n",
    "wf.close()"
   ]
  },
  {
   "cell_type": "code",
   "execution_count": 28,
   "metadata": {
    "collapsed": true
   },
   "outputs": [],
   "source": [
    "rf = open('/Users/dainabouquin/Documents/CUNYsps_MS/DATA_698/Final_Datasets/exoplanets/exoplanet5000/exoplanet_5000.txt')\n",
    "wf = open('/Users/dainabouquin/Documents/CUNYsps_MS/DATA_698/Final_Datasets/exoplanets/exoplanet5000/exoplanet_5000_clean.txt',\"w\")\n",
    "for line in rf:\n",
    "    newline = line.rstrip('\\r\\n')\n",
    "    wf.write(newline)\n",
    "    wf.write('\\n')  # remove to leave out line breaks\n",
    "rf.close()\n",
    "wf.close()"
   ]
  },
  {
   "cell_type": "code",
   "execution_count": 29,
   "metadata": {
    "collapsed": true
   },
   "outputs": [],
   "source": [
    "rf = open('/Users/dainabouquin/Documents/CUNYsps_MS/DATA_698/Final_Datasets/exoplanets/exoplanet_10000/exoplanet_10000.txt')\n",
    "wf = open('/Users/dainabouquin/Documents/CUNYsps_MS/DATA_698/Final_Datasets/exoplanets/exoplanet_10000/exoplanet_10000_clean.txt',\"w\")\n",
    "for line in rf:\n",
    "    newline = line.rstrip('\\r\\n')\n",
    "    wf.write(newline)\n",
    "    wf.write('\\n')  # remove to leave out line breaks\n",
    "rf.close()\n",
    "wf.close()"
   ]
  },
  {
   "cell_type": "code",
   "execution_count": 30,
   "metadata": {
    "collapsed": true
   },
   "outputs": [],
   "source": [
    "rf = open('/Users/dainabouquin/Documents/CUNYsps_MS/DATA_698/Final_Datasets/exoplanets/exoplanet20000/exoplanet_20000.txt')\n",
    "wf = open('/Users/dainabouquin/Documents/CUNYsps_MS/DATA_698/Final_Datasets/exoplanets/exoplanet20000/exoplanet_20000_clean.txt',\"w\")\n",
    "for line in rf:\n",
    "    newline = line.rstrip('\\r\\n')\n",
    "    wf.write(newline)\n",
    "    wf.write('\\n')  # remove to leave out line breaks\n",
    "rf.close()\n",
    "wf.close()"
   ]
  },
  {
   "cell_type": "code",
   "execution_count": null,
   "metadata": {
    "collapsed": true
   },
   "outputs": [],
   "source": []
  }
 ],
 "metadata": {
  "anaconda-cloud": {},
  "kernelspec": {
   "display_name": "Python [Root]",
   "language": "python",
   "name": "Python [Root]"
  },
  "language_info": {
   "codemirror_mode": {
    "name": "ipython",
    "version": 2
   },
   "file_extension": ".py",
   "mimetype": "text/x-python",
   "name": "python",
   "nbconvert_exporter": "python",
   "pygments_lexer": "ipython2",
   "version": "2.7.9"
  }
 },
 "nbformat": 4,
 "nbformat_minor": 0
}
